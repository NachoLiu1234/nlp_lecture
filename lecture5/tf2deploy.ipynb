{
  "nbformat": 4,
  "nbformat_minor": 0,
  "metadata": {
    "colab": {
      "name": "tf2deploy.ipynb",
      "provenance": []
    },
    "kernelspec": {
      "name": "python3",
      "display_name": "Python 3"
    },
    "accelerator": "GPU",
    "widgets": {
      "application/vnd.jupyter.widget-state+json": {
        "80309805a1934fb9b766ad97330bf6c3": {
          "model_module": "@jupyter-widgets/controls",
          "model_name": "HBoxModel",
          "state": {
            "_view_name": "HBoxView",
            "_dom_classes": [],
            "_model_name": "HBoxModel",
            "_view_module": "@jupyter-widgets/controls",
            "_model_module_version": "1.5.0",
            "_view_count": null,
            "_view_module_version": "1.5.0",
            "box_style": "",
            "layout": "IPY_MODEL_e4ab8de39e344348961ac512b151ae5a",
            "_model_module": "@jupyter-widgets/controls",
            "children": [
              "IPY_MODEL_f7a4707d70984084807de5cc4792a6c7",
              "IPY_MODEL_29f00123978a473eab2923ce2b9bdbed"
            ]
          }
        },
        "e4ab8de39e344348961ac512b151ae5a": {
          "model_module": "@jupyter-widgets/base",
          "model_name": "LayoutModel",
          "state": {
            "_view_name": "LayoutView",
            "grid_template_rows": null,
            "right": null,
            "justify_content": null,
            "_view_module": "@jupyter-widgets/base",
            "overflow": null,
            "_model_module_version": "1.2.0",
            "_view_count": null,
            "flex_flow": null,
            "width": null,
            "min_width": null,
            "border": null,
            "align_items": null,
            "bottom": null,
            "_model_module": "@jupyter-widgets/base",
            "top": null,
            "grid_column": null,
            "overflow_y": null,
            "overflow_x": null,
            "grid_auto_flow": null,
            "grid_area": null,
            "grid_template_columns": null,
            "flex": null,
            "_model_name": "LayoutModel",
            "justify_items": null,
            "grid_row": null,
            "max_height": null,
            "align_content": null,
            "visibility": null,
            "align_self": null,
            "height": null,
            "min_height": null,
            "padding": null,
            "grid_auto_rows": null,
            "grid_gap": null,
            "max_width": null,
            "order": null,
            "_view_module_version": "1.2.0",
            "grid_template_areas": null,
            "object_position": null,
            "object_fit": null,
            "grid_auto_columns": null,
            "margin": null,
            "display": null,
            "left": null
          }
        },
        "f7a4707d70984084807de5cc4792a6c7": {
          "model_module": "@jupyter-widgets/controls",
          "model_name": "IntProgressModel",
          "state": {
            "_view_name": "ProgressView",
            "style": "IPY_MODEL_34012f991c964c27a28dd4f1f69e6493",
            "_dom_classes": [],
            "description": "Dl Completed...: 100%",
            "_model_name": "IntProgressModel",
            "bar_style": "success",
            "max": 1,
            "_view_module": "@jupyter-widgets/controls",
            "_model_module_version": "1.5.0",
            "value": 1,
            "_view_count": null,
            "_view_module_version": "1.5.0",
            "orientation": "horizontal",
            "min": 0,
            "description_tooltip": null,
            "_model_module": "@jupyter-widgets/controls",
            "layout": "IPY_MODEL_81670e10e2824e63a8ab0df65e834ae2"
          }
        },
        "29f00123978a473eab2923ce2b9bdbed": {
          "model_module": "@jupyter-widgets/controls",
          "model_name": "HTMLModel",
          "state": {
            "_view_name": "HTMLView",
            "style": "IPY_MODEL_8a542da8137b4f938a95e4eb2c9ee9d9",
            "_dom_classes": [],
            "description": "",
            "_model_name": "HTMLModel",
            "placeholder": "​",
            "_view_module": "@jupyter-widgets/controls",
            "_model_module_version": "1.5.0",
            "value": " 1/1 [00:09&lt;00:00,  9.41s/ url]",
            "_view_count": null,
            "_view_module_version": "1.5.0",
            "description_tooltip": null,
            "_model_module": "@jupyter-widgets/controls",
            "layout": "IPY_MODEL_36ab7642ead34f6684f366550e6660c2"
          }
        },
        "34012f991c964c27a28dd4f1f69e6493": {
          "model_module": "@jupyter-widgets/controls",
          "model_name": "ProgressStyleModel",
          "state": {
            "_view_name": "StyleView",
            "_model_name": "ProgressStyleModel",
            "description_width": "initial",
            "_view_module": "@jupyter-widgets/base",
            "_model_module_version": "1.5.0",
            "_view_count": null,
            "_view_module_version": "1.2.0",
            "bar_color": null,
            "_model_module": "@jupyter-widgets/controls"
          }
        },
        "81670e10e2824e63a8ab0df65e834ae2": {
          "model_module": "@jupyter-widgets/base",
          "model_name": "LayoutModel",
          "state": {
            "_view_name": "LayoutView",
            "grid_template_rows": null,
            "right": null,
            "justify_content": null,
            "_view_module": "@jupyter-widgets/base",
            "overflow": null,
            "_model_module_version": "1.2.0",
            "_view_count": null,
            "flex_flow": null,
            "width": null,
            "min_width": null,
            "border": null,
            "align_items": null,
            "bottom": null,
            "_model_module": "@jupyter-widgets/base",
            "top": null,
            "grid_column": null,
            "overflow_y": null,
            "overflow_x": null,
            "grid_auto_flow": null,
            "grid_area": null,
            "grid_template_columns": null,
            "flex": null,
            "_model_name": "LayoutModel",
            "justify_items": null,
            "grid_row": null,
            "max_height": null,
            "align_content": null,
            "visibility": null,
            "align_self": null,
            "height": null,
            "min_height": null,
            "padding": null,
            "grid_auto_rows": null,
            "grid_gap": null,
            "max_width": null,
            "order": null,
            "_view_module_version": "1.2.0",
            "grid_template_areas": null,
            "object_position": null,
            "object_fit": null,
            "grid_auto_columns": null,
            "margin": null,
            "display": null,
            "left": null
          }
        },
        "8a542da8137b4f938a95e4eb2c9ee9d9": {
          "model_module": "@jupyter-widgets/controls",
          "model_name": "DescriptionStyleModel",
          "state": {
            "_view_name": "StyleView",
            "_model_name": "DescriptionStyleModel",
            "description_width": "",
            "_view_module": "@jupyter-widgets/base",
            "_model_module_version": "1.5.0",
            "_view_count": null,
            "_view_module_version": "1.2.0",
            "_model_module": "@jupyter-widgets/controls"
          }
        },
        "36ab7642ead34f6684f366550e6660c2": {
          "model_module": "@jupyter-widgets/base",
          "model_name": "LayoutModel",
          "state": {
            "_view_name": "LayoutView",
            "grid_template_rows": null,
            "right": null,
            "justify_content": null,
            "_view_module": "@jupyter-widgets/base",
            "overflow": null,
            "_model_module_version": "1.2.0",
            "_view_count": null,
            "flex_flow": null,
            "width": null,
            "min_width": null,
            "border": null,
            "align_items": null,
            "bottom": null,
            "_model_module": "@jupyter-widgets/base",
            "top": null,
            "grid_column": null,
            "overflow_y": null,
            "overflow_x": null,
            "grid_auto_flow": null,
            "grid_area": null,
            "grid_template_columns": null,
            "flex": null,
            "_model_name": "LayoutModel",
            "justify_items": null,
            "grid_row": null,
            "max_height": null,
            "align_content": null,
            "visibility": null,
            "align_self": null,
            "height": null,
            "min_height": null,
            "padding": null,
            "grid_auto_rows": null,
            "grid_gap": null,
            "max_width": null,
            "order": null,
            "_view_module_version": "1.2.0",
            "grid_template_areas": null,
            "object_position": null,
            "object_fit": null,
            "grid_auto_columns": null,
            "margin": null,
            "display": null,
            "left": null
          }
        },
        "97db78cf2df347ff9aa3a0d50329a200": {
          "model_module": "@jupyter-widgets/controls",
          "model_name": "HBoxModel",
          "state": {
            "_view_name": "HBoxView",
            "_dom_classes": [],
            "_model_name": "HBoxModel",
            "_view_module": "@jupyter-widgets/controls",
            "_model_module_version": "1.5.0",
            "_view_count": null,
            "_view_module_version": "1.5.0",
            "box_style": "",
            "layout": "IPY_MODEL_b65f2fc285b540618df4a4170474786b",
            "_model_module": "@jupyter-widgets/controls",
            "children": [
              "IPY_MODEL_1a061386e3f946e3a938e525e8d6f7bc",
              "IPY_MODEL_f6b4ecaa1cc6486ebc6aa9a44ff92bf2"
            ]
          }
        },
        "b65f2fc285b540618df4a4170474786b": {
          "model_module": "@jupyter-widgets/base",
          "model_name": "LayoutModel",
          "state": {
            "_view_name": "LayoutView",
            "grid_template_rows": null,
            "right": null,
            "justify_content": null,
            "_view_module": "@jupyter-widgets/base",
            "overflow": null,
            "_model_module_version": "1.2.0",
            "_view_count": null,
            "flex_flow": null,
            "width": null,
            "min_width": null,
            "border": null,
            "align_items": null,
            "bottom": null,
            "_model_module": "@jupyter-widgets/base",
            "top": null,
            "grid_column": null,
            "overflow_y": null,
            "overflow_x": null,
            "grid_auto_flow": null,
            "grid_area": null,
            "grid_template_columns": null,
            "flex": null,
            "_model_name": "LayoutModel",
            "justify_items": null,
            "grid_row": null,
            "max_height": null,
            "align_content": null,
            "visibility": null,
            "align_self": null,
            "height": null,
            "min_height": null,
            "padding": null,
            "grid_auto_rows": null,
            "grid_gap": null,
            "max_width": null,
            "order": null,
            "_view_module_version": "1.2.0",
            "grid_template_areas": null,
            "object_position": null,
            "object_fit": null,
            "grid_auto_columns": null,
            "margin": null,
            "display": null,
            "left": null
          }
        },
        "1a061386e3f946e3a938e525e8d6f7bc": {
          "model_module": "@jupyter-widgets/controls",
          "model_name": "IntProgressModel",
          "state": {
            "_view_name": "ProgressView",
            "style": "IPY_MODEL_c5a97caf9056495dacb485b98c9aaa88",
            "_dom_classes": [],
            "description": "Dl Size...: 100%",
            "_model_name": "IntProgressModel",
            "bar_style": "success",
            "max": 1,
            "_view_module": "@jupyter-widgets/controls",
            "_model_module_version": "1.5.0",
            "value": 1,
            "_view_count": null,
            "_view_module_version": "1.5.0",
            "orientation": "horizontal",
            "min": 0,
            "description_tooltip": null,
            "_model_module": "@jupyter-widgets/controls",
            "layout": "IPY_MODEL_1885dac18dce4850bb419c56ab0d9327"
          }
        },
        "f6b4ecaa1cc6486ebc6aa9a44ff92bf2": {
          "model_module": "@jupyter-widgets/controls",
          "model_name": "HTMLModel",
          "state": {
            "_view_name": "HTMLView",
            "style": "IPY_MODEL_ecdd71df00a54f9ea1e52047b6d78547",
            "_dom_classes": [],
            "description": "",
            "_model_name": "HTMLModel",
            "placeholder": "​",
            "_view_module": "@jupyter-widgets/controls",
            "_model_module_version": "1.5.0",
            "value": " 80/80 [00:09&lt;00:00,  8.53 MiB/s]",
            "_view_count": null,
            "_view_module_version": "1.5.0",
            "description_tooltip": null,
            "_model_module": "@jupyter-widgets/controls",
            "layout": "IPY_MODEL_931e1cd0329547f68596d67be3a762ff"
          }
        },
        "c5a97caf9056495dacb485b98c9aaa88": {
          "model_module": "@jupyter-widgets/controls",
          "model_name": "ProgressStyleModel",
          "state": {
            "_view_name": "StyleView",
            "_model_name": "ProgressStyleModel",
            "description_width": "initial",
            "_view_module": "@jupyter-widgets/base",
            "_model_module_version": "1.5.0",
            "_view_count": null,
            "_view_module_version": "1.2.0",
            "bar_color": null,
            "_model_module": "@jupyter-widgets/controls"
          }
        },
        "1885dac18dce4850bb419c56ab0d9327": {
          "model_module": "@jupyter-widgets/base",
          "model_name": "LayoutModel",
          "state": {
            "_view_name": "LayoutView",
            "grid_template_rows": null,
            "right": null,
            "justify_content": null,
            "_view_module": "@jupyter-widgets/base",
            "overflow": null,
            "_model_module_version": "1.2.0",
            "_view_count": null,
            "flex_flow": null,
            "width": null,
            "min_width": null,
            "border": null,
            "align_items": null,
            "bottom": null,
            "_model_module": "@jupyter-widgets/base",
            "top": null,
            "grid_column": null,
            "overflow_y": null,
            "overflow_x": null,
            "grid_auto_flow": null,
            "grid_area": null,
            "grid_template_columns": null,
            "flex": null,
            "_model_name": "LayoutModel",
            "justify_items": null,
            "grid_row": null,
            "max_height": null,
            "align_content": null,
            "visibility": null,
            "align_self": null,
            "height": null,
            "min_height": null,
            "padding": null,
            "grid_auto_rows": null,
            "grid_gap": null,
            "max_width": null,
            "order": null,
            "_view_module_version": "1.2.0",
            "grid_template_areas": null,
            "object_position": null,
            "object_fit": null,
            "grid_auto_columns": null,
            "margin": null,
            "display": null,
            "left": null
          }
        },
        "ecdd71df00a54f9ea1e52047b6d78547": {
          "model_module": "@jupyter-widgets/controls",
          "model_name": "DescriptionStyleModel",
          "state": {
            "_view_name": "StyleView",
            "_model_name": "DescriptionStyleModel",
            "description_width": "",
            "_view_module": "@jupyter-widgets/base",
            "_model_module_version": "1.5.0",
            "_view_count": null,
            "_view_module_version": "1.2.0",
            "_model_module": "@jupyter-widgets/controls"
          }
        },
        "931e1cd0329547f68596d67be3a762ff": {
          "model_module": "@jupyter-widgets/base",
          "model_name": "LayoutModel",
          "state": {
            "_view_name": "LayoutView",
            "grid_template_rows": null,
            "right": null,
            "justify_content": null,
            "_view_module": "@jupyter-widgets/base",
            "overflow": null,
            "_model_module_version": "1.2.0",
            "_view_count": null,
            "flex_flow": null,
            "width": null,
            "min_width": null,
            "border": null,
            "align_items": null,
            "bottom": null,
            "_model_module": "@jupyter-widgets/base",
            "top": null,
            "grid_column": null,
            "overflow_y": null,
            "overflow_x": null,
            "grid_auto_flow": null,
            "grid_area": null,
            "grid_template_columns": null,
            "flex": null,
            "_model_name": "LayoutModel",
            "justify_items": null,
            "grid_row": null,
            "max_height": null,
            "align_content": null,
            "visibility": null,
            "align_self": null,
            "height": null,
            "min_height": null,
            "padding": null,
            "grid_auto_rows": null,
            "grid_gap": null,
            "max_width": null,
            "order": null,
            "_view_module_version": "1.2.0",
            "grid_template_areas": null,
            "object_position": null,
            "object_fit": null,
            "grid_auto_columns": null,
            "margin": null,
            "display": null,
            "left": null
          }
        },
        "3cf3f42961214ea3863d12433e6613ca": {
          "model_module": "@jupyter-widgets/controls",
          "model_name": "HBoxModel",
          "state": {
            "_view_name": "HBoxView",
            "_dom_classes": [],
            "_model_name": "HBoxModel",
            "_view_module": "@jupyter-widgets/controls",
            "_model_module_version": "1.5.0",
            "_view_count": null,
            "_view_module_version": "1.5.0",
            "box_style": "",
            "layout": "IPY_MODEL_ea798cb1d4294b88a35dd388f29a29ed",
            "_model_module": "@jupyter-widgets/controls",
            "children": [
              "IPY_MODEL_92be5cd112b040ba8a1bc86e8d6ebed3",
              "IPY_MODEL_53d9cbabde3f4bfcb455cca7c0b5868e"
            ]
          }
        },
        "ea798cb1d4294b88a35dd388f29a29ed": {
          "model_module": "@jupyter-widgets/base",
          "model_name": "LayoutModel",
          "state": {
            "_view_name": "LayoutView",
            "grid_template_rows": null,
            "right": null,
            "justify_content": null,
            "_view_module": "@jupyter-widgets/base",
            "overflow": null,
            "_model_module_version": "1.2.0",
            "_view_count": null,
            "flex_flow": null,
            "width": null,
            "min_width": null,
            "border": null,
            "align_items": null,
            "bottom": null,
            "_model_module": "@jupyter-widgets/base",
            "top": null,
            "grid_column": null,
            "overflow_y": null,
            "overflow_x": null,
            "grid_auto_flow": null,
            "grid_area": null,
            "grid_template_columns": null,
            "flex": null,
            "_model_name": "LayoutModel",
            "justify_items": null,
            "grid_row": null,
            "max_height": null,
            "align_content": null,
            "visibility": null,
            "align_self": null,
            "height": null,
            "min_height": null,
            "padding": null,
            "grid_auto_rows": null,
            "grid_gap": null,
            "max_width": null,
            "order": null,
            "_view_module_version": "1.2.0",
            "grid_template_areas": null,
            "object_position": null,
            "object_fit": null,
            "grid_auto_columns": null,
            "margin": null,
            "display": null,
            "left": null
          }
        },
        "92be5cd112b040ba8a1bc86e8d6ebed3": {
          "model_module": "@jupyter-widgets/controls",
          "model_name": "IntProgressModel",
          "state": {
            "_view_name": "ProgressView",
            "style": "IPY_MODEL_52ab67a478d84dcd8f34648b02adcdea",
            "_dom_classes": [],
            "description": "",
            "_model_name": "IntProgressModel",
            "bar_style": "info",
            "max": 1,
            "_view_module": "@jupyter-widgets/controls",
            "_model_module_version": "1.5.0",
            "value": 1,
            "_view_count": null,
            "_view_module_version": "1.5.0",
            "orientation": "horizontal",
            "min": 0,
            "description_tooltip": null,
            "_model_module": "@jupyter-widgets/controls",
            "layout": "IPY_MODEL_87ad27d8a7a74b169c31a5c61ff38b8c"
          }
        },
        "53d9cbabde3f4bfcb455cca7c0b5868e": {
          "model_module": "@jupyter-widgets/controls",
          "model_name": "HTMLModel",
          "state": {
            "_view_name": "HTMLView",
            "style": "IPY_MODEL_e7c7a48fe2844b90bc66ba727f543ea9",
            "_dom_classes": [],
            "description": "",
            "_model_name": "HTMLModel",
            "placeholder": "​",
            "_view_module": "@jupyter-widgets/controls",
            "_model_module_version": "1.5.0",
            "value": " 25000/0 [00:12&lt;00:00, 3463.24 examples/s]",
            "_view_count": null,
            "_view_module_version": "1.5.0",
            "description_tooltip": null,
            "_model_module": "@jupyter-widgets/controls",
            "layout": "IPY_MODEL_7875e4a8027e496898313a16e4c430d1"
          }
        },
        "52ab67a478d84dcd8f34648b02adcdea": {
          "model_module": "@jupyter-widgets/controls",
          "model_name": "ProgressStyleModel",
          "state": {
            "_view_name": "StyleView",
            "_model_name": "ProgressStyleModel",
            "description_width": "initial",
            "_view_module": "@jupyter-widgets/base",
            "_model_module_version": "1.5.0",
            "_view_count": null,
            "_view_module_version": "1.2.0",
            "bar_color": null,
            "_model_module": "@jupyter-widgets/controls"
          }
        },
        "87ad27d8a7a74b169c31a5c61ff38b8c": {
          "model_module": "@jupyter-widgets/base",
          "model_name": "LayoutModel",
          "state": {
            "_view_name": "LayoutView",
            "grid_template_rows": null,
            "right": null,
            "justify_content": null,
            "_view_module": "@jupyter-widgets/base",
            "overflow": null,
            "_model_module_version": "1.2.0",
            "_view_count": null,
            "flex_flow": null,
            "width": null,
            "min_width": null,
            "border": null,
            "align_items": null,
            "bottom": null,
            "_model_module": "@jupyter-widgets/base",
            "top": null,
            "grid_column": null,
            "overflow_y": null,
            "overflow_x": null,
            "grid_auto_flow": null,
            "grid_area": null,
            "grid_template_columns": null,
            "flex": null,
            "_model_name": "LayoutModel",
            "justify_items": null,
            "grid_row": null,
            "max_height": null,
            "align_content": null,
            "visibility": null,
            "align_self": null,
            "height": null,
            "min_height": null,
            "padding": null,
            "grid_auto_rows": null,
            "grid_gap": null,
            "max_width": null,
            "order": null,
            "_view_module_version": "1.2.0",
            "grid_template_areas": null,
            "object_position": null,
            "object_fit": null,
            "grid_auto_columns": null,
            "margin": null,
            "display": null,
            "left": null
          }
        },
        "e7c7a48fe2844b90bc66ba727f543ea9": {
          "model_module": "@jupyter-widgets/controls",
          "model_name": "DescriptionStyleModel",
          "state": {
            "_view_name": "StyleView",
            "_model_name": "DescriptionStyleModel",
            "description_width": "",
            "_view_module": "@jupyter-widgets/base",
            "_model_module_version": "1.5.0",
            "_view_count": null,
            "_view_module_version": "1.2.0",
            "_model_module": "@jupyter-widgets/controls"
          }
        },
        "7875e4a8027e496898313a16e4c430d1": {
          "model_module": "@jupyter-widgets/base",
          "model_name": "LayoutModel",
          "state": {
            "_view_name": "LayoutView",
            "grid_template_rows": null,
            "right": null,
            "justify_content": null,
            "_view_module": "@jupyter-widgets/base",
            "overflow": null,
            "_model_module_version": "1.2.0",
            "_view_count": null,
            "flex_flow": null,
            "width": null,
            "min_width": null,
            "border": null,
            "align_items": null,
            "bottom": null,
            "_model_module": "@jupyter-widgets/base",
            "top": null,
            "grid_column": null,
            "overflow_y": null,
            "overflow_x": null,
            "grid_auto_flow": null,
            "grid_area": null,
            "grid_template_columns": null,
            "flex": null,
            "_model_name": "LayoutModel",
            "justify_items": null,
            "grid_row": null,
            "max_height": null,
            "align_content": null,
            "visibility": null,
            "align_self": null,
            "height": null,
            "min_height": null,
            "padding": null,
            "grid_auto_rows": null,
            "grid_gap": null,
            "max_width": null,
            "order": null,
            "_view_module_version": "1.2.0",
            "grid_template_areas": null,
            "object_position": null,
            "object_fit": null,
            "grid_auto_columns": null,
            "margin": null,
            "display": null,
            "left": null
          }
        },
        "88e6a62e997a46b8a1f033b4c313295f": {
          "model_module": "@jupyter-widgets/controls",
          "model_name": "HBoxModel",
          "state": {
            "_view_name": "HBoxView",
            "_dom_classes": [],
            "_model_name": "HBoxModel",
            "_view_module": "@jupyter-widgets/controls",
            "_model_module_version": "1.5.0",
            "_view_count": null,
            "_view_module_version": "1.5.0",
            "box_style": "",
            "layout": "IPY_MODEL_a65827e9c44646c5965e726d65f9f407",
            "_model_module": "@jupyter-widgets/controls",
            "children": [
              "IPY_MODEL_8ba556eda8ed491b95b03f0d40eee0a8",
              "IPY_MODEL_7b938121830b4c3faa4b89d1e8b6b2fd"
            ]
          }
        },
        "a65827e9c44646c5965e726d65f9f407": {
          "model_module": "@jupyter-widgets/base",
          "model_name": "LayoutModel",
          "state": {
            "_view_name": "LayoutView",
            "grid_template_rows": null,
            "right": null,
            "justify_content": null,
            "_view_module": "@jupyter-widgets/base",
            "overflow": null,
            "_model_module_version": "1.2.0",
            "_view_count": null,
            "flex_flow": null,
            "width": null,
            "min_width": null,
            "border": null,
            "align_items": null,
            "bottom": null,
            "_model_module": "@jupyter-widgets/base",
            "top": null,
            "grid_column": null,
            "overflow_y": null,
            "overflow_x": null,
            "grid_auto_flow": null,
            "grid_area": null,
            "grid_template_columns": null,
            "flex": null,
            "_model_name": "LayoutModel",
            "justify_items": null,
            "grid_row": null,
            "max_height": null,
            "align_content": null,
            "visibility": null,
            "align_self": null,
            "height": null,
            "min_height": null,
            "padding": null,
            "grid_auto_rows": null,
            "grid_gap": null,
            "max_width": null,
            "order": null,
            "_view_module_version": "1.2.0",
            "grid_template_areas": null,
            "object_position": null,
            "object_fit": null,
            "grid_auto_columns": null,
            "margin": null,
            "display": null,
            "left": null
          }
        },
        "8ba556eda8ed491b95b03f0d40eee0a8": {
          "model_module": "@jupyter-widgets/controls",
          "model_name": "IntProgressModel",
          "state": {
            "_view_name": "ProgressView",
            "style": "IPY_MODEL_a4127969683f4b4ba83a3733237b0bce",
            "_dom_classes": [],
            "description": " 45%",
            "_model_name": "IntProgressModel",
            "bar_style": "danger",
            "max": 25000,
            "_view_module": "@jupyter-widgets/controls",
            "_model_module_version": "1.5.0",
            "value": 11138,
            "_view_count": null,
            "_view_module_version": "1.5.0",
            "orientation": "horizontal",
            "min": 0,
            "description_tooltip": null,
            "_model_module": "@jupyter-widgets/controls",
            "layout": "IPY_MODEL_f8a84a47641e49cba0e7b3b4facdb95c"
          }
        },
        "7b938121830b4c3faa4b89d1e8b6b2fd": {
          "model_module": "@jupyter-widgets/controls",
          "model_name": "HTMLModel",
          "state": {
            "_view_name": "HTMLView",
            "style": "IPY_MODEL_f441889bf37b4fa79d5f2c41b8a1a21f",
            "_dom_classes": [],
            "description": "",
            "_model_name": "HTMLModel",
            "placeholder": "​",
            "_view_module": "@jupyter-widgets/controls",
            "_model_module_version": "1.5.0",
            "value": " 11138/25000 [00:00&lt;00:00, 111375.59 examples/s]",
            "_view_count": null,
            "_view_module_version": "1.5.0",
            "description_tooltip": null,
            "_model_module": "@jupyter-widgets/controls",
            "layout": "IPY_MODEL_458e8c8c4b4f47a88dc33750cf277730"
          }
        },
        "a4127969683f4b4ba83a3733237b0bce": {
          "model_module": "@jupyter-widgets/controls",
          "model_name": "ProgressStyleModel",
          "state": {
            "_view_name": "StyleView",
            "_model_name": "ProgressStyleModel",
            "description_width": "initial",
            "_view_module": "@jupyter-widgets/base",
            "_model_module_version": "1.5.0",
            "_view_count": null,
            "_view_module_version": "1.2.0",
            "bar_color": null,
            "_model_module": "@jupyter-widgets/controls"
          }
        },
        "f8a84a47641e49cba0e7b3b4facdb95c": {
          "model_module": "@jupyter-widgets/base",
          "model_name": "LayoutModel",
          "state": {
            "_view_name": "LayoutView",
            "grid_template_rows": null,
            "right": null,
            "justify_content": null,
            "_view_module": "@jupyter-widgets/base",
            "overflow": null,
            "_model_module_version": "1.2.0",
            "_view_count": null,
            "flex_flow": null,
            "width": null,
            "min_width": null,
            "border": null,
            "align_items": null,
            "bottom": null,
            "_model_module": "@jupyter-widgets/base",
            "top": null,
            "grid_column": null,
            "overflow_y": null,
            "overflow_x": null,
            "grid_auto_flow": null,
            "grid_area": null,
            "grid_template_columns": null,
            "flex": null,
            "_model_name": "LayoutModel",
            "justify_items": null,
            "grid_row": null,
            "max_height": null,
            "align_content": null,
            "visibility": null,
            "align_self": null,
            "height": null,
            "min_height": null,
            "padding": null,
            "grid_auto_rows": null,
            "grid_gap": null,
            "max_width": null,
            "order": null,
            "_view_module_version": "1.2.0",
            "grid_template_areas": null,
            "object_position": null,
            "object_fit": null,
            "grid_auto_columns": null,
            "margin": null,
            "display": null,
            "left": null
          }
        },
        "f441889bf37b4fa79d5f2c41b8a1a21f": {
          "model_module": "@jupyter-widgets/controls",
          "model_name": "DescriptionStyleModel",
          "state": {
            "_view_name": "StyleView",
            "_model_name": "DescriptionStyleModel",
            "description_width": "",
            "_view_module": "@jupyter-widgets/base",
            "_model_module_version": "1.5.0",
            "_view_count": null,
            "_view_module_version": "1.2.0",
            "_model_module": "@jupyter-widgets/controls"
          }
        },
        "458e8c8c4b4f47a88dc33750cf277730": {
          "model_module": "@jupyter-widgets/base",
          "model_name": "LayoutModel",
          "state": {
            "_view_name": "LayoutView",
            "grid_template_rows": null,
            "right": null,
            "justify_content": null,
            "_view_module": "@jupyter-widgets/base",
            "overflow": null,
            "_model_module_version": "1.2.0",
            "_view_count": null,
            "flex_flow": null,
            "width": null,
            "min_width": null,
            "border": null,
            "align_items": null,
            "bottom": null,
            "_model_module": "@jupyter-widgets/base",
            "top": null,
            "grid_column": null,
            "overflow_y": null,
            "overflow_x": null,
            "grid_auto_flow": null,
            "grid_area": null,
            "grid_template_columns": null,
            "flex": null,
            "_model_name": "LayoutModel",
            "justify_items": null,
            "grid_row": null,
            "max_height": null,
            "align_content": null,
            "visibility": null,
            "align_self": null,
            "height": null,
            "min_height": null,
            "padding": null,
            "grid_auto_rows": null,
            "grid_gap": null,
            "max_width": null,
            "order": null,
            "_view_module_version": "1.2.0",
            "grid_template_areas": null,
            "object_position": null,
            "object_fit": null,
            "grid_auto_columns": null,
            "margin": null,
            "display": null,
            "left": null
          }
        },
        "deb2870ef4e8457f8cc1338705eb1391": {
          "model_module": "@jupyter-widgets/controls",
          "model_name": "HBoxModel",
          "state": {
            "_view_name": "HBoxView",
            "_dom_classes": [],
            "_model_name": "HBoxModel",
            "_view_module": "@jupyter-widgets/controls",
            "_model_module_version": "1.5.0",
            "_view_count": null,
            "_view_module_version": "1.5.0",
            "box_style": "",
            "layout": "IPY_MODEL_cb34bf8f14fa49f58523dcd793238e24",
            "_model_module": "@jupyter-widgets/controls",
            "children": [
              "IPY_MODEL_e2bf54b895de4c6f9408f7edcfa602ec",
              "IPY_MODEL_fd5188b11570431081f7ea8cc1cc8155"
            ]
          }
        },
        "cb34bf8f14fa49f58523dcd793238e24": {
          "model_module": "@jupyter-widgets/base",
          "model_name": "LayoutModel",
          "state": {
            "_view_name": "LayoutView",
            "grid_template_rows": null,
            "right": null,
            "justify_content": null,
            "_view_module": "@jupyter-widgets/base",
            "overflow": null,
            "_model_module_version": "1.2.0",
            "_view_count": null,
            "flex_flow": null,
            "width": null,
            "min_width": null,
            "border": null,
            "align_items": null,
            "bottom": null,
            "_model_module": "@jupyter-widgets/base",
            "top": null,
            "grid_column": null,
            "overflow_y": null,
            "overflow_x": null,
            "grid_auto_flow": null,
            "grid_area": null,
            "grid_template_columns": null,
            "flex": null,
            "_model_name": "LayoutModel",
            "justify_items": null,
            "grid_row": null,
            "max_height": null,
            "align_content": null,
            "visibility": null,
            "align_self": null,
            "height": null,
            "min_height": null,
            "padding": null,
            "grid_auto_rows": null,
            "grid_gap": null,
            "max_width": null,
            "order": null,
            "_view_module_version": "1.2.0",
            "grid_template_areas": null,
            "object_position": null,
            "object_fit": null,
            "grid_auto_columns": null,
            "margin": null,
            "display": null,
            "left": null
          }
        },
        "e2bf54b895de4c6f9408f7edcfa602ec": {
          "model_module": "@jupyter-widgets/controls",
          "model_name": "IntProgressModel",
          "state": {
            "_view_name": "ProgressView",
            "style": "IPY_MODEL_a1729937f8ea43aeb58a3203bdd90021",
            "_dom_classes": [],
            "description": "",
            "_model_name": "IntProgressModel",
            "bar_style": "info",
            "max": 1,
            "_view_module": "@jupyter-widgets/controls",
            "_model_module_version": "1.5.0",
            "value": 1,
            "_view_count": null,
            "_view_module_version": "1.5.0",
            "orientation": "horizontal",
            "min": 0,
            "description_tooltip": null,
            "_model_module": "@jupyter-widgets/controls",
            "layout": "IPY_MODEL_1a009c1a77a343c7af333662f295735f"
          }
        },
        "fd5188b11570431081f7ea8cc1cc8155": {
          "model_module": "@jupyter-widgets/controls",
          "model_name": "HTMLModel",
          "state": {
            "_view_name": "HTMLView",
            "style": "IPY_MODEL_abc4f2775c5c4f60a1c950fce5b0a972",
            "_dom_classes": [],
            "description": "",
            "_model_name": "HTMLModel",
            "placeholder": "​",
            "_view_module": "@jupyter-widgets/controls",
            "_model_module_version": "1.5.0",
            "value": " 25000/0 [00:12&lt;00:00, 3400.26 examples/s]",
            "_view_count": null,
            "_view_module_version": "1.5.0",
            "description_tooltip": null,
            "_model_module": "@jupyter-widgets/controls",
            "layout": "IPY_MODEL_441ae6535092421587509ce8d573c885"
          }
        },
        "a1729937f8ea43aeb58a3203bdd90021": {
          "model_module": "@jupyter-widgets/controls",
          "model_name": "ProgressStyleModel",
          "state": {
            "_view_name": "StyleView",
            "_model_name": "ProgressStyleModel",
            "description_width": "initial",
            "_view_module": "@jupyter-widgets/base",
            "_model_module_version": "1.5.0",
            "_view_count": null,
            "_view_module_version": "1.2.0",
            "bar_color": null,
            "_model_module": "@jupyter-widgets/controls"
          }
        },
        "1a009c1a77a343c7af333662f295735f": {
          "model_module": "@jupyter-widgets/base",
          "model_name": "LayoutModel",
          "state": {
            "_view_name": "LayoutView",
            "grid_template_rows": null,
            "right": null,
            "justify_content": null,
            "_view_module": "@jupyter-widgets/base",
            "overflow": null,
            "_model_module_version": "1.2.0",
            "_view_count": null,
            "flex_flow": null,
            "width": null,
            "min_width": null,
            "border": null,
            "align_items": null,
            "bottom": null,
            "_model_module": "@jupyter-widgets/base",
            "top": null,
            "grid_column": null,
            "overflow_y": null,
            "overflow_x": null,
            "grid_auto_flow": null,
            "grid_area": null,
            "grid_template_columns": null,
            "flex": null,
            "_model_name": "LayoutModel",
            "justify_items": null,
            "grid_row": null,
            "max_height": null,
            "align_content": null,
            "visibility": null,
            "align_self": null,
            "height": null,
            "min_height": null,
            "padding": null,
            "grid_auto_rows": null,
            "grid_gap": null,
            "max_width": null,
            "order": null,
            "_view_module_version": "1.2.0",
            "grid_template_areas": null,
            "object_position": null,
            "object_fit": null,
            "grid_auto_columns": null,
            "margin": null,
            "display": null,
            "left": null
          }
        },
        "abc4f2775c5c4f60a1c950fce5b0a972": {
          "model_module": "@jupyter-widgets/controls",
          "model_name": "DescriptionStyleModel",
          "state": {
            "_view_name": "StyleView",
            "_model_name": "DescriptionStyleModel",
            "description_width": "",
            "_view_module": "@jupyter-widgets/base",
            "_model_module_version": "1.5.0",
            "_view_count": null,
            "_view_module_version": "1.2.0",
            "_model_module": "@jupyter-widgets/controls"
          }
        },
        "441ae6535092421587509ce8d573c885": {
          "model_module": "@jupyter-widgets/base",
          "model_name": "LayoutModel",
          "state": {
            "_view_name": "LayoutView",
            "grid_template_rows": null,
            "right": null,
            "justify_content": null,
            "_view_module": "@jupyter-widgets/base",
            "overflow": null,
            "_model_module_version": "1.2.0",
            "_view_count": null,
            "flex_flow": null,
            "width": null,
            "min_width": null,
            "border": null,
            "align_items": null,
            "bottom": null,
            "_model_module": "@jupyter-widgets/base",
            "top": null,
            "grid_column": null,
            "overflow_y": null,
            "overflow_x": null,
            "grid_auto_flow": null,
            "grid_area": null,
            "grid_template_columns": null,
            "flex": null,
            "_model_name": "LayoutModel",
            "justify_items": null,
            "grid_row": null,
            "max_height": null,
            "align_content": null,
            "visibility": null,
            "align_self": null,
            "height": null,
            "min_height": null,
            "padding": null,
            "grid_auto_rows": null,
            "grid_gap": null,
            "max_width": null,
            "order": null,
            "_view_module_version": "1.2.0",
            "grid_template_areas": null,
            "object_position": null,
            "object_fit": null,
            "grid_auto_columns": null,
            "margin": null,
            "display": null,
            "left": null
          }
        },
        "a69b20c7291c4161bb34753c5ff5c599": {
          "model_module": "@jupyter-widgets/controls",
          "model_name": "HBoxModel",
          "state": {
            "_view_name": "HBoxView",
            "_dom_classes": [],
            "_model_name": "HBoxModel",
            "_view_module": "@jupyter-widgets/controls",
            "_model_module_version": "1.5.0",
            "_view_count": null,
            "_view_module_version": "1.5.0",
            "box_style": "",
            "layout": "IPY_MODEL_9e7616a5e889406b9d61b14693bbd474",
            "_model_module": "@jupyter-widgets/controls",
            "children": [
              "IPY_MODEL_55dfb2098b9c47558131751bd129a57b",
              "IPY_MODEL_66d202231dec4f0ab6b22a40a6d212f0"
            ]
          }
        },
        "9e7616a5e889406b9d61b14693bbd474": {
          "model_module": "@jupyter-widgets/base",
          "model_name": "LayoutModel",
          "state": {
            "_view_name": "LayoutView",
            "grid_template_rows": null,
            "right": null,
            "justify_content": null,
            "_view_module": "@jupyter-widgets/base",
            "overflow": null,
            "_model_module_version": "1.2.0",
            "_view_count": null,
            "flex_flow": null,
            "width": null,
            "min_width": null,
            "border": null,
            "align_items": null,
            "bottom": null,
            "_model_module": "@jupyter-widgets/base",
            "top": null,
            "grid_column": null,
            "overflow_y": null,
            "overflow_x": null,
            "grid_auto_flow": null,
            "grid_area": null,
            "grid_template_columns": null,
            "flex": null,
            "_model_name": "LayoutModel",
            "justify_items": null,
            "grid_row": null,
            "max_height": null,
            "align_content": null,
            "visibility": null,
            "align_self": null,
            "height": null,
            "min_height": null,
            "padding": null,
            "grid_auto_rows": null,
            "grid_gap": null,
            "max_width": null,
            "order": null,
            "_view_module_version": "1.2.0",
            "grid_template_areas": null,
            "object_position": null,
            "object_fit": null,
            "grid_auto_columns": null,
            "margin": null,
            "display": null,
            "left": null
          }
        },
        "55dfb2098b9c47558131751bd129a57b": {
          "model_module": "@jupyter-widgets/controls",
          "model_name": "IntProgressModel",
          "state": {
            "_view_name": "ProgressView",
            "style": "IPY_MODEL_1f16c142c76440f9a237ab6df3380a9f",
            "_dom_classes": [],
            "description": " 66%",
            "_model_name": "IntProgressModel",
            "bar_style": "danger",
            "max": 25000,
            "_view_module": "@jupyter-widgets/controls",
            "_model_module_version": "1.5.0",
            "value": 16395,
            "_view_count": null,
            "_view_module_version": "1.5.0",
            "orientation": "horizontal",
            "min": 0,
            "description_tooltip": null,
            "_model_module": "@jupyter-widgets/controls",
            "layout": "IPY_MODEL_8f982e55542e41cb92a39ea46c826ed5"
          }
        },
        "66d202231dec4f0ab6b22a40a6d212f0": {
          "model_module": "@jupyter-widgets/controls",
          "model_name": "HTMLModel",
          "state": {
            "_view_name": "HTMLView",
            "style": "IPY_MODEL_dee0ed79f6934929acd4f48bc44a1288",
            "_dom_classes": [],
            "description": "",
            "_model_name": "HTMLModel",
            "placeholder": "​",
            "_view_module": "@jupyter-widgets/controls",
            "_model_module_version": "1.5.0",
            "value": " 16395/25000 [00:00&lt;00:00, 163949.37 examples/s]",
            "_view_count": null,
            "_view_module_version": "1.5.0",
            "description_tooltip": null,
            "_model_module": "@jupyter-widgets/controls",
            "layout": "IPY_MODEL_cc160b25c5bb475bb73c2caddd9571a1"
          }
        },
        "1f16c142c76440f9a237ab6df3380a9f": {
          "model_module": "@jupyter-widgets/controls",
          "model_name": "ProgressStyleModel",
          "state": {
            "_view_name": "StyleView",
            "_model_name": "ProgressStyleModel",
            "description_width": "initial",
            "_view_module": "@jupyter-widgets/base",
            "_model_module_version": "1.5.0",
            "_view_count": null,
            "_view_module_version": "1.2.0",
            "bar_color": null,
            "_model_module": "@jupyter-widgets/controls"
          }
        },
        "8f982e55542e41cb92a39ea46c826ed5": {
          "model_module": "@jupyter-widgets/base",
          "model_name": "LayoutModel",
          "state": {
            "_view_name": "LayoutView",
            "grid_template_rows": null,
            "right": null,
            "justify_content": null,
            "_view_module": "@jupyter-widgets/base",
            "overflow": null,
            "_model_module_version": "1.2.0",
            "_view_count": null,
            "flex_flow": null,
            "width": null,
            "min_width": null,
            "border": null,
            "align_items": null,
            "bottom": null,
            "_model_module": "@jupyter-widgets/base",
            "top": null,
            "grid_column": null,
            "overflow_y": null,
            "overflow_x": null,
            "grid_auto_flow": null,
            "grid_area": null,
            "grid_template_columns": null,
            "flex": null,
            "_model_name": "LayoutModel",
            "justify_items": null,
            "grid_row": null,
            "max_height": null,
            "align_content": null,
            "visibility": null,
            "align_self": null,
            "height": null,
            "min_height": null,
            "padding": null,
            "grid_auto_rows": null,
            "grid_gap": null,
            "max_width": null,
            "order": null,
            "_view_module_version": "1.2.0",
            "grid_template_areas": null,
            "object_position": null,
            "object_fit": null,
            "grid_auto_columns": null,
            "margin": null,
            "display": null,
            "left": null
          }
        },
        "dee0ed79f6934929acd4f48bc44a1288": {
          "model_module": "@jupyter-widgets/controls",
          "model_name": "DescriptionStyleModel",
          "state": {
            "_view_name": "StyleView",
            "_model_name": "DescriptionStyleModel",
            "description_width": "",
            "_view_module": "@jupyter-widgets/base",
            "_model_module_version": "1.5.0",
            "_view_count": null,
            "_view_module_version": "1.2.0",
            "_model_module": "@jupyter-widgets/controls"
          }
        },
        "cc160b25c5bb475bb73c2caddd9571a1": {
          "model_module": "@jupyter-widgets/base",
          "model_name": "LayoutModel",
          "state": {
            "_view_name": "LayoutView",
            "grid_template_rows": null,
            "right": null,
            "justify_content": null,
            "_view_module": "@jupyter-widgets/base",
            "overflow": null,
            "_model_module_version": "1.2.0",
            "_view_count": null,
            "flex_flow": null,
            "width": null,
            "min_width": null,
            "border": null,
            "align_items": null,
            "bottom": null,
            "_model_module": "@jupyter-widgets/base",
            "top": null,
            "grid_column": null,
            "overflow_y": null,
            "overflow_x": null,
            "grid_auto_flow": null,
            "grid_area": null,
            "grid_template_columns": null,
            "flex": null,
            "_model_name": "LayoutModel",
            "justify_items": null,
            "grid_row": null,
            "max_height": null,
            "align_content": null,
            "visibility": null,
            "align_self": null,
            "height": null,
            "min_height": null,
            "padding": null,
            "grid_auto_rows": null,
            "grid_gap": null,
            "max_width": null,
            "order": null,
            "_view_module_version": "1.2.0",
            "grid_template_areas": null,
            "object_position": null,
            "object_fit": null,
            "grid_auto_columns": null,
            "margin": null,
            "display": null,
            "left": null
          }
        },
        "747e72e708da498da03e4b885ec258d5": {
          "model_module": "@jupyter-widgets/controls",
          "model_name": "HBoxModel",
          "state": {
            "_view_name": "HBoxView",
            "_dom_classes": [],
            "_model_name": "HBoxModel",
            "_view_module": "@jupyter-widgets/controls",
            "_model_module_version": "1.5.0",
            "_view_count": null,
            "_view_module_version": "1.5.0",
            "box_style": "",
            "layout": "IPY_MODEL_98476e4ba10c4a41828d0ef8b8a2fd58",
            "_model_module": "@jupyter-widgets/controls",
            "children": [
              "IPY_MODEL_8a3308f8a2b94261bc7d8e79b29231c0",
              "IPY_MODEL_7b6797071470420fb6b8b8ff72dec5e2"
            ]
          }
        },
        "98476e4ba10c4a41828d0ef8b8a2fd58": {
          "model_module": "@jupyter-widgets/base",
          "model_name": "LayoutModel",
          "state": {
            "_view_name": "LayoutView",
            "grid_template_rows": null,
            "right": null,
            "justify_content": null,
            "_view_module": "@jupyter-widgets/base",
            "overflow": null,
            "_model_module_version": "1.2.0",
            "_view_count": null,
            "flex_flow": null,
            "width": null,
            "min_width": null,
            "border": null,
            "align_items": null,
            "bottom": null,
            "_model_module": "@jupyter-widgets/base",
            "top": null,
            "grid_column": null,
            "overflow_y": null,
            "overflow_x": null,
            "grid_auto_flow": null,
            "grid_area": null,
            "grid_template_columns": null,
            "flex": null,
            "_model_name": "LayoutModel",
            "justify_items": null,
            "grid_row": null,
            "max_height": null,
            "align_content": null,
            "visibility": null,
            "align_self": null,
            "height": null,
            "min_height": null,
            "padding": null,
            "grid_auto_rows": null,
            "grid_gap": null,
            "max_width": null,
            "order": null,
            "_view_module_version": "1.2.0",
            "grid_template_areas": null,
            "object_position": null,
            "object_fit": null,
            "grid_auto_columns": null,
            "margin": null,
            "display": null,
            "left": null
          }
        },
        "8a3308f8a2b94261bc7d8e79b29231c0": {
          "model_module": "@jupyter-widgets/controls",
          "model_name": "IntProgressModel",
          "state": {
            "_view_name": "ProgressView",
            "style": "IPY_MODEL_2c22ff1f7cf54680a6c019e0120cdaa4",
            "_dom_classes": [],
            "description": "",
            "_model_name": "IntProgressModel",
            "bar_style": "info",
            "max": 1,
            "_view_module": "@jupyter-widgets/controls",
            "_model_module_version": "1.5.0",
            "value": 1,
            "_view_count": null,
            "_view_module_version": "1.5.0",
            "orientation": "horizontal",
            "min": 0,
            "description_tooltip": null,
            "_model_module": "@jupyter-widgets/controls",
            "layout": "IPY_MODEL_544ed094a7e5409ca354dad6219ba7e2"
          }
        },
        "7b6797071470420fb6b8b8ff72dec5e2": {
          "model_module": "@jupyter-widgets/controls",
          "model_name": "HTMLModel",
          "state": {
            "_view_name": "HTMLView",
            "style": "IPY_MODEL_07ce0a3179ae4b48b907d5d18c496607",
            "_dom_classes": [],
            "description": "",
            "_model_name": "HTMLModel",
            "placeholder": "​",
            "_view_module": "@jupyter-widgets/controls",
            "_model_module_version": "1.5.0",
            "value": " 50000/0 [00:18&lt;00:00, 3286.74 examples/s]",
            "_view_count": null,
            "_view_module_version": "1.5.0",
            "description_tooltip": null,
            "_model_module": "@jupyter-widgets/controls",
            "layout": "IPY_MODEL_7afca30ce53f4f0f99942fff757a8957"
          }
        },
        "2c22ff1f7cf54680a6c019e0120cdaa4": {
          "model_module": "@jupyter-widgets/controls",
          "model_name": "ProgressStyleModel",
          "state": {
            "_view_name": "StyleView",
            "_model_name": "ProgressStyleModel",
            "description_width": "initial",
            "_view_module": "@jupyter-widgets/base",
            "_model_module_version": "1.5.0",
            "_view_count": null,
            "_view_module_version": "1.2.0",
            "bar_color": null,
            "_model_module": "@jupyter-widgets/controls"
          }
        },
        "544ed094a7e5409ca354dad6219ba7e2": {
          "model_module": "@jupyter-widgets/base",
          "model_name": "LayoutModel",
          "state": {
            "_view_name": "LayoutView",
            "grid_template_rows": null,
            "right": null,
            "justify_content": null,
            "_view_module": "@jupyter-widgets/base",
            "overflow": null,
            "_model_module_version": "1.2.0",
            "_view_count": null,
            "flex_flow": null,
            "width": null,
            "min_width": null,
            "border": null,
            "align_items": null,
            "bottom": null,
            "_model_module": "@jupyter-widgets/base",
            "top": null,
            "grid_column": null,
            "overflow_y": null,
            "overflow_x": null,
            "grid_auto_flow": null,
            "grid_area": null,
            "grid_template_columns": null,
            "flex": null,
            "_model_name": "LayoutModel",
            "justify_items": null,
            "grid_row": null,
            "max_height": null,
            "align_content": null,
            "visibility": null,
            "align_self": null,
            "height": null,
            "min_height": null,
            "padding": null,
            "grid_auto_rows": null,
            "grid_gap": null,
            "max_width": null,
            "order": null,
            "_view_module_version": "1.2.0",
            "grid_template_areas": null,
            "object_position": null,
            "object_fit": null,
            "grid_auto_columns": null,
            "margin": null,
            "display": null,
            "left": null
          }
        },
        "07ce0a3179ae4b48b907d5d18c496607": {
          "model_module": "@jupyter-widgets/controls",
          "model_name": "DescriptionStyleModel",
          "state": {
            "_view_name": "StyleView",
            "_model_name": "DescriptionStyleModel",
            "description_width": "",
            "_view_module": "@jupyter-widgets/base",
            "_model_module_version": "1.5.0",
            "_view_count": null,
            "_view_module_version": "1.2.0",
            "_model_module": "@jupyter-widgets/controls"
          }
        },
        "7afca30ce53f4f0f99942fff757a8957": {
          "model_module": "@jupyter-widgets/base",
          "model_name": "LayoutModel",
          "state": {
            "_view_name": "LayoutView",
            "grid_template_rows": null,
            "right": null,
            "justify_content": null,
            "_view_module": "@jupyter-widgets/base",
            "overflow": null,
            "_model_module_version": "1.2.0",
            "_view_count": null,
            "flex_flow": null,
            "width": null,
            "min_width": null,
            "border": null,
            "align_items": null,
            "bottom": null,
            "_model_module": "@jupyter-widgets/base",
            "top": null,
            "grid_column": null,
            "overflow_y": null,
            "overflow_x": null,
            "grid_auto_flow": null,
            "grid_area": null,
            "grid_template_columns": null,
            "flex": null,
            "_model_name": "LayoutModel",
            "justify_items": null,
            "grid_row": null,
            "max_height": null,
            "align_content": null,
            "visibility": null,
            "align_self": null,
            "height": null,
            "min_height": null,
            "padding": null,
            "grid_auto_rows": null,
            "grid_gap": null,
            "max_width": null,
            "order": null,
            "_view_module_version": "1.2.0",
            "grid_template_areas": null,
            "object_position": null,
            "object_fit": null,
            "grid_auto_columns": null,
            "margin": null,
            "display": null,
            "left": null
          }
        },
        "65eda15d003e4409a5b17c8a3d4ea899": {
          "model_module": "@jupyter-widgets/controls",
          "model_name": "HBoxModel",
          "state": {
            "_view_name": "HBoxView",
            "_dom_classes": [],
            "_model_name": "HBoxModel",
            "_view_module": "@jupyter-widgets/controls",
            "_model_module_version": "1.5.0",
            "_view_count": null,
            "_view_module_version": "1.5.0",
            "box_style": "",
            "layout": "IPY_MODEL_6d933f77a81740d68dd4097d019ce800",
            "_model_module": "@jupyter-widgets/controls",
            "children": [
              "IPY_MODEL_4afa272a4aa742f4958a097ca5950f51",
              "IPY_MODEL_38ab17ccad794d729105029df9dea2b0"
            ]
          }
        },
        "6d933f77a81740d68dd4097d019ce800": {
          "model_module": "@jupyter-widgets/base",
          "model_name": "LayoutModel",
          "state": {
            "_view_name": "LayoutView",
            "grid_template_rows": null,
            "right": null,
            "justify_content": null,
            "_view_module": "@jupyter-widgets/base",
            "overflow": null,
            "_model_module_version": "1.2.0",
            "_view_count": null,
            "flex_flow": null,
            "width": null,
            "min_width": null,
            "border": null,
            "align_items": null,
            "bottom": null,
            "_model_module": "@jupyter-widgets/base",
            "top": null,
            "grid_column": null,
            "overflow_y": null,
            "overflow_x": null,
            "grid_auto_flow": null,
            "grid_area": null,
            "grid_template_columns": null,
            "flex": null,
            "_model_name": "LayoutModel",
            "justify_items": null,
            "grid_row": null,
            "max_height": null,
            "align_content": null,
            "visibility": null,
            "align_self": null,
            "height": null,
            "min_height": null,
            "padding": null,
            "grid_auto_rows": null,
            "grid_gap": null,
            "max_width": null,
            "order": null,
            "_view_module_version": "1.2.0",
            "grid_template_areas": null,
            "object_position": null,
            "object_fit": null,
            "grid_auto_columns": null,
            "margin": null,
            "display": null,
            "left": null
          }
        },
        "4afa272a4aa742f4958a097ca5950f51": {
          "model_module": "@jupyter-widgets/controls",
          "model_name": "IntProgressModel",
          "state": {
            "_view_name": "ProgressView",
            "style": "IPY_MODEL_f8934351fa2148d7878563949d4abcfc",
            "_dom_classes": [],
            "description": " 95%",
            "_model_name": "IntProgressModel",
            "bar_style": "danger",
            "max": 50000,
            "_view_module": "@jupyter-widgets/controls",
            "_model_module_version": "1.5.0",
            "value": 47356,
            "_view_count": null,
            "_view_module_version": "1.5.0",
            "orientation": "horizontal",
            "min": 0,
            "description_tooltip": null,
            "_model_module": "@jupyter-widgets/controls",
            "layout": "IPY_MODEL_b5e57626a88f45ef88cef4aac061c013"
          }
        },
        "38ab17ccad794d729105029df9dea2b0": {
          "model_module": "@jupyter-widgets/controls",
          "model_name": "HTMLModel",
          "state": {
            "_view_name": "HTMLView",
            "style": "IPY_MODEL_2b23bc0878534c3dbd552246939ff26b",
            "_dom_classes": [],
            "description": "",
            "_model_name": "HTMLModel",
            "placeholder": "​",
            "_view_module": "@jupyter-widgets/controls",
            "_model_module_version": "1.5.0",
            "value": " 47356/50000 [00:07&lt;00:00, 103439.66 examples/s]",
            "_view_count": null,
            "_view_module_version": "1.5.0",
            "description_tooltip": null,
            "_model_module": "@jupyter-widgets/controls",
            "layout": "IPY_MODEL_0b780a6d95f3472eaeeff572a221c31a"
          }
        },
        "f8934351fa2148d7878563949d4abcfc": {
          "model_module": "@jupyter-widgets/controls",
          "model_name": "ProgressStyleModel",
          "state": {
            "_view_name": "StyleView",
            "_model_name": "ProgressStyleModel",
            "description_width": "initial",
            "_view_module": "@jupyter-widgets/base",
            "_model_module_version": "1.5.0",
            "_view_count": null,
            "_view_module_version": "1.2.0",
            "bar_color": null,
            "_model_module": "@jupyter-widgets/controls"
          }
        },
        "b5e57626a88f45ef88cef4aac061c013": {
          "model_module": "@jupyter-widgets/base",
          "model_name": "LayoutModel",
          "state": {
            "_view_name": "LayoutView",
            "grid_template_rows": null,
            "right": null,
            "justify_content": null,
            "_view_module": "@jupyter-widgets/base",
            "overflow": null,
            "_model_module_version": "1.2.0",
            "_view_count": null,
            "flex_flow": null,
            "width": null,
            "min_width": null,
            "border": null,
            "align_items": null,
            "bottom": null,
            "_model_module": "@jupyter-widgets/base",
            "top": null,
            "grid_column": null,
            "overflow_y": null,
            "overflow_x": null,
            "grid_auto_flow": null,
            "grid_area": null,
            "grid_template_columns": null,
            "flex": null,
            "_model_name": "LayoutModel",
            "justify_items": null,
            "grid_row": null,
            "max_height": null,
            "align_content": null,
            "visibility": null,
            "align_self": null,
            "height": null,
            "min_height": null,
            "padding": null,
            "grid_auto_rows": null,
            "grid_gap": null,
            "max_width": null,
            "order": null,
            "_view_module_version": "1.2.0",
            "grid_template_areas": null,
            "object_position": null,
            "object_fit": null,
            "grid_auto_columns": null,
            "margin": null,
            "display": null,
            "left": null
          }
        },
        "2b23bc0878534c3dbd552246939ff26b": {
          "model_module": "@jupyter-widgets/controls",
          "model_name": "DescriptionStyleModel",
          "state": {
            "_view_name": "StyleView",
            "_model_name": "DescriptionStyleModel",
            "description_width": "",
            "_view_module": "@jupyter-widgets/base",
            "_model_module_version": "1.5.0",
            "_view_count": null,
            "_view_module_version": "1.2.0",
            "_model_module": "@jupyter-widgets/controls"
          }
        },
        "0b780a6d95f3472eaeeff572a221c31a": {
          "model_module": "@jupyter-widgets/base",
          "model_name": "LayoutModel",
          "state": {
            "_view_name": "LayoutView",
            "grid_template_rows": null,
            "right": null,
            "justify_content": null,
            "_view_module": "@jupyter-widgets/base",
            "overflow": null,
            "_model_module_version": "1.2.0",
            "_view_count": null,
            "flex_flow": null,
            "width": null,
            "min_width": null,
            "border": null,
            "align_items": null,
            "bottom": null,
            "_model_module": "@jupyter-widgets/base",
            "top": null,
            "grid_column": null,
            "overflow_y": null,
            "overflow_x": null,
            "grid_auto_flow": null,
            "grid_area": null,
            "grid_template_columns": null,
            "flex": null,
            "_model_name": "LayoutModel",
            "justify_items": null,
            "grid_row": null,
            "max_height": null,
            "align_content": null,
            "visibility": null,
            "align_self": null,
            "height": null,
            "min_height": null,
            "padding": null,
            "grid_auto_rows": null,
            "grid_gap": null,
            "max_width": null,
            "order": null,
            "_view_module_version": "1.2.0",
            "grid_template_areas": null,
            "object_position": null,
            "object_fit": null,
            "grid_auto_columns": null,
            "margin": null,
            "display": null,
            "left": null
          }
        }
      }
    }
  },
  "cells": [
    {
      "cell_type": "code",
      "metadata": {
        "id": "x8YnP8eycrFl",
        "colab_type": "code",
        "outputId": "d9a4353b-eb78-41dd-9ca9-ed7c9ea6d9bd",
        "colab": {
          "base_uri": "https://localhost:8080/",
          "height": 104
        }
      },
      "source": [
        "import numpy as np\n",
        "\n",
        "import tensorflow as tf\n",
        "\n",
        "!pip install -q tensorflow-hub\n",
        "!pip install -q tfds-nightly\n",
        "import tensorflow_hub as hub\n",
        "import tensorflow_datasets as tfds\n",
        "\n",
        "print(\"Version: \", tf.__version__)\n",
        "print(\"Eager mode: \", tf.executing_eagerly())\n",
        "print(\"Hub version: \", hub.__version__)\n",
        "print(\"GPU is\", \"available\" if tf.config.experimental.list_physical_devices(\"GPU\") else \"NOT AVAILABLE\")"
      ],
      "execution_count": 1,
      "outputs": [
        {
          "output_type": "stream",
          "text": [
            "\u001b[?25l\r\u001b[K     |                                | 10kB 31.3MB/s eta 0:00:01\r\u001b[K     |▏                               | 20kB 6.1MB/s eta 0:00:01\r\u001b[K     |▎                               | 30kB 8.7MB/s eta 0:00:01\r\u001b[K     |▍                               | 40kB 11.1MB/s eta 0:00:01\r\u001b[K     |▌                               | 51kB 6.9MB/s eta 0:00:01\r\u001b[K     |▋                               | 61kB 8.1MB/s eta 0:00:01\r\u001b[K     |▊                               | 71kB 9.1MB/s eta 0:00:01\r\u001b[K     |▉                               | 81kB 10.1MB/s eta 0:00:01\r\u001b[K     |█                               | 92kB 8.1MB/s eta 0:00:01\r\u001b[K     |█                               | 102kB 8.9MB/s eta 0:00:01\r\u001b[K     |█                               | 112kB 8.9MB/s eta 0:00:01\r\u001b[K     |█▏                              | 122kB 8.9MB/s eta 0:00:01\r\u001b[K     |█▎                              | 133kB 8.9MB/s eta 0:00:01\r\u001b[K     |█▍                              | 143kB 8.9MB/s eta 0:00:01\r\u001b[K     |█▌                              | 153kB 8.9MB/s eta 0:00:01\r\u001b[K     |█▋                              | 163kB 8.9MB/s eta 0:00:01\r\u001b[K     |█▊                              | 174kB 8.9MB/s eta 0:00:01\r\u001b[K     |█▉                              | 184kB 8.9MB/s eta 0:00:01\r\u001b[K     |█▉                              | 194kB 8.9MB/s eta 0:00:01\r\u001b[K     |██                              | 204kB 8.9MB/s eta 0:00:01\r\u001b[K     |██                              | 215kB 8.9MB/s eta 0:00:01\r\u001b[K     |██▏                             | 225kB 8.9MB/s eta 0:00:01\r\u001b[K     |██▎                             | 235kB 8.9MB/s eta 0:00:01\r\u001b[K     |██▍                             | 245kB 8.9MB/s eta 0:00:01\r\u001b[K     |██▌                             | 256kB 8.9MB/s eta 0:00:01\r\u001b[K     |██▋                             | 266kB 8.9MB/s eta 0:00:01\r\u001b[K     |██▊                             | 276kB 8.9MB/s eta 0:00:01\r\u001b[K     |██▉                             | 286kB 8.9MB/s eta 0:00:01\r\u001b[K     |██▉                             | 296kB 8.9MB/s eta 0:00:01\r\u001b[K     |███                             | 307kB 8.9MB/s eta 0:00:01\r\u001b[K     |███                             | 317kB 8.9MB/s eta 0:00:01\r\u001b[K     |███▏                            | 327kB 8.9MB/s eta 0:00:01\r\u001b[K     |███▎                            | 337kB 8.9MB/s eta 0:00:01\r\u001b[K     |███▍                            | 348kB 8.9MB/s eta 0:00:01\r\u001b[K     |███▌                            | 358kB 8.9MB/s eta 0:00:01\r\u001b[K     |███▋                            | 368kB 8.9MB/s eta 0:00:01\r\u001b[K     |███▊                            | 378kB 8.9MB/s eta 0:00:01\r\u001b[K     |███▊                            | 389kB 8.9MB/s eta 0:00:01\r\u001b[K     |███▉                            | 399kB 8.9MB/s eta 0:00:01\r\u001b[K     |████                            | 409kB 8.9MB/s eta 0:00:01\r\u001b[K     |████                            | 419kB 8.9MB/s eta 0:00:01\r\u001b[K     |████▏                           | 430kB 8.9MB/s eta 0:00:01\r\u001b[K     |████▎                           | 440kB 8.9MB/s eta 0:00:01\r\u001b[K     |████▍                           | 450kB 8.9MB/s eta 0:00:01\r\u001b[K     |████▌                           | 460kB 8.9MB/s eta 0:00:01\r\u001b[K     |████▋                           | 471kB 8.9MB/s eta 0:00:01\r\u001b[K     |████▊                           | 481kB 8.9MB/s eta 0:00:01\r\u001b[K     |████▊                           | 491kB 8.9MB/s eta 0:00:01\r\u001b[K     |████▉                           | 501kB 8.9MB/s eta 0:00:01\r\u001b[K     |█████                           | 512kB 8.9MB/s eta 0:00:01\r\u001b[K     |█████                           | 522kB 8.9MB/s eta 0:00:01\r\u001b[K     |█████▏                          | 532kB 8.9MB/s eta 0:00:01\r\u001b[K     |█████▎                          | 542kB 8.9MB/s eta 0:00:01\r\u001b[K     |█████▍                          | 552kB 8.9MB/s eta 0:00:01\r\u001b[K     |█████▌                          | 563kB 8.9MB/s eta 0:00:01\r\u001b[K     |█████▋                          | 573kB 8.9MB/s eta 0:00:01\r\u001b[K     |█████▋                          | 583kB 8.9MB/s eta 0:00:01\r\u001b[K     |█████▊                          | 593kB 8.9MB/s eta 0:00:01\r\u001b[K     |█████▉                          | 604kB 8.9MB/s eta 0:00:01\r\u001b[K     |██████                          | 614kB 8.9MB/s eta 0:00:01\r\u001b[K     |██████                          | 624kB 8.9MB/s eta 0:00:01\r\u001b[K     |██████▏                         | 634kB 8.9MB/s eta 0:00:01\r\u001b[K     |██████▎                         | 645kB 8.9MB/s eta 0:00:01\r\u001b[K     |██████▍                         | 655kB 8.9MB/s eta 0:00:01\r\u001b[K     |██████▌                         | 665kB 8.9MB/s eta 0:00:01\r\u001b[K     |██████▋                         | 675kB 8.9MB/s eta 0:00:01\r\u001b[K     |██████▋                         | 686kB 8.9MB/s eta 0:00:01\r\u001b[K     |██████▊                         | 696kB 8.9MB/s eta 0:00:01\r\u001b[K     |██████▉                         | 706kB 8.9MB/s eta 0:00:01\r\u001b[K     |███████                         | 716kB 8.9MB/s eta 0:00:01\r\u001b[K     |███████                         | 727kB 8.9MB/s eta 0:00:01\r\u001b[K     |███████▏                        | 737kB 8.9MB/s eta 0:00:01\r\u001b[K     |███████▎                        | 747kB 8.9MB/s eta 0:00:01\r\u001b[K     |███████▍                        | 757kB 8.9MB/s eta 0:00:01\r\u001b[K     |███████▌                        | 768kB 8.9MB/s eta 0:00:01\r\u001b[K     |███████▌                        | 778kB 8.9MB/s eta 0:00:01\r\u001b[K     |███████▋                        | 788kB 8.9MB/s eta 0:00:01\r\u001b[K     |███████▊                        | 798kB 8.9MB/s eta 0:00:01\r\u001b[K     |███████▉                        | 808kB 8.9MB/s eta 0:00:01\r\u001b[K     |████████                        | 819kB 8.9MB/s eta 0:00:01\r\u001b[K     |████████                        | 829kB 8.9MB/s eta 0:00:01\r\u001b[K     |████████▏                       | 839kB 8.9MB/s eta 0:00:01\r\u001b[K     |████████▎                       | 849kB 8.9MB/s eta 0:00:01\r\u001b[K     |████████▍                       | 860kB 8.9MB/s eta 0:00:01\r\u001b[K     |████████▍                       | 870kB 8.9MB/s eta 0:00:01\r\u001b[K     |████████▌                       | 880kB 8.9MB/s eta 0:00:01\r\u001b[K     |████████▋                       | 890kB 8.9MB/s eta 0:00:01\r\u001b[K     |████████▊                       | 901kB 8.9MB/s eta 0:00:01\r\u001b[K     |████████▉                       | 911kB 8.9MB/s eta 0:00:01\r\u001b[K     |█████████                       | 921kB 8.9MB/s eta 0:00:01\r\u001b[K     |█████████                       | 931kB 8.9MB/s eta 0:00:01\r\u001b[K     |█████████▏                      | 942kB 8.9MB/s eta 0:00:01\r\u001b[K     |█████████▎                      | 952kB 8.9MB/s eta 0:00:01\r\u001b[K     |█████████▍                      | 962kB 8.9MB/s eta 0:00:01\r\u001b[K     |█████████▍                      | 972kB 8.9MB/s eta 0:00:01\r\u001b[K     |█████████▌                      | 983kB 8.9MB/s eta 0:00:01\r\u001b[K     |█████████▋                      | 993kB 8.9MB/s eta 0:00:01\r\u001b[K     |█████████▊                      | 1.0MB 8.9MB/s eta 0:00:01\r\u001b[K     |█████████▉                      | 1.0MB 8.9MB/s eta 0:00:01\r\u001b[K     |██████████                      | 1.0MB 8.9MB/s eta 0:00:01\r\u001b[K     |██████████                      | 1.0MB 8.9MB/s eta 0:00:01\r\u001b[K     |██████████▏                     | 1.0MB 8.9MB/s eta 0:00:01\r\u001b[K     |██████████▎                     | 1.1MB 8.9MB/s eta 0:00:01\r\u001b[K     |██████████▎                     | 1.1MB 8.9MB/s eta 0:00:01\r\u001b[K     |██████████▍                     | 1.1MB 8.9MB/s eta 0:00:01\r\u001b[K     |██████████▌                     | 1.1MB 8.9MB/s eta 0:00:01\r\u001b[K     |██████████▋                     | 1.1MB 8.9MB/s eta 0:00:01\r\u001b[K     |██████████▊                     | 1.1MB 8.9MB/s eta 0:00:01\r\u001b[K     |██████████▉                     | 1.1MB 8.9MB/s eta 0:00:01\r\u001b[K     |███████████                     | 1.1MB 8.9MB/s eta 0:00:01\r\u001b[K     |███████████                     | 1.1MB 8.9MB/s eta 0:00:01\r\u001b[K     |███████████▏                    | 1.1MB 8.9MB/s eta 0:00:01\r\u001b[K     |███████████▎                    | 1.2MB 8.9MB/s eta 0:00:01\r\u001b[K     |███████████▎                    | 1.2MB 8.9MB/s eta 0:00:01\r\u001b[K     |███████████▍                    | 1.2MB 8.9MB/s eta 0:00:01\r\u001b[K     |███████████▌                    | 1.2MB 8.9MB/s eta 0:00:01\r\u001b[K     |███████████▋                    | 1.2MB 8.9MB/s eta 0:00:01\r\u001b[K     |███████████▊                    | 1.2MB 8.9MB/s eta 0:00:01\r\u001b[K     |███████████▉                    | 1.2MB 8.9MB/s eta 0:00:01\r\u001b[K     |████████████                    | 1.2MB 8.9MB/s eta 0:00:01\r\u001b[K     |████████████                    | 1.2MB 8.9MB/s eta 0:00:01\r\u001b[K     |████████████▏                   | 1.2MB 8.9MB/s eta 0:00:01\r\u001b[K     |████████████▏                   | 1.3MB 8.9MB/s eta 0:00:01\r\u001b[K     |████████████▎                   | 1.3MB 8.9MB/s eta 0:00:01\r\u001b[K     |████████████▍                   | 1.3MB 8.9MB/s eta 0:00:01\r\u001b[K     |████████████▌                   | 1.3MB 8.9MB/s eta 0:00:01\r\u001b[K     |████████████▋                   | 1.3MB 8.9MB/s eta 0:00:01\r\u001b[K     |████████████▊                   | 1.3MB 8.9MB/s eta 0:00:01\r\u001b[K     |████████████▉                   | 1.3MB 8.9MB/s eta 0:00:01\r\u001b[K     |█████████████                   | 1.3MB 8.9MB/s eta 0:00:01\r\u001b[K     |█████████████                   | 1.3MB 8.9MB/s eta 0:00:01\r\u001b[K     |█████████████▏                  | 1.4MB 8.9MB/s eta 0:00:01\r\u001b[K     |█████████████▏                  | 1.4MB 8.9MB/s eta 0:00:01\r\u001b[K     |█████████████▎                  | 1.4MB 8.9MB/s eta 0:00:01\r\u001b[K     |█████████████▍                  | 1.4MB 8.9MB/s eta 0:00:01\r\u001b[K     |█████████████▌                  | 1.4MB 8.9MB/s eta 0:00:01\r\u001b[K     |█████████████▋                  | 1.4MB 8.9MB/s eta 0:00:01\r\u001b[K     |█████████████▊                  | 1.4MB 8.9MB/s eta 0:00:01\r\u001b[K     |█████████████▉                  | 1.4MB 8.9MB/s eta 0:00:01\r\u001b[K     |██████████████                  | 1.4MB 8.9MB/s eta 0:00:01\r\u001b[K     |██████████████                  | 1.4MB 8.9MB/s eta 0:00:01\r\u001b[K     |██████████████                  | 1.5MB 8.9MB/s eta 0:00:01\r\u001b[K     |██████████████▏                 | 1.5MB 8.9MB/s eta 0:00:01\r\u001b[K     |██████████████▎                 | 1.5MB 8.9MB/s eta 0:00:01\r\u001b[K     |██████████████▍                 | 1.5MB 8.9MB/s eta 0:00:01\r\u001b[K     |██████████████▌                 | 1.5MB 8.9MB/s eta 0:00:01\r\u001b[K     |██████████████▋                 | 1.5MB 8.9MB/s eta 0:00:01\r\u001b[K     |██████████████▊                 | 1.5MB 8.9MB/s eta 0:00:01\r\u001b[K     |██████████████▉                 | 1.5MB 8.9MB/s eta 0:00:01\r\u001b[K     |███████████████                 | 1.5MB 8.9MB/s eta 0:00:01\r\u001b[K     |███████████████                 | 1.5MB 8.9MB/s eta 0:00:01\r\u001b[K     |███████████████                 | 1.6MB 8.9MB/s eta 0:00:01\r\u001b[K     |███████████████▏                | 1.6MB 8.9MB/s eta 0:00:01\r\u001b[K     |███████████████▎                | 1.6MB 8.9MB/s eta 0:00:01\r\u001b[K     |███████████████▍                | 1.6MB 8.9MB/s eta 0:00:01\r\u001b[K     |███████████████▌                | 1.6MB 8.9MB/s eta 0:00:01\r\u001b[K     |███████████████▋                | 1.6MB 8.9MB/s eta 0:00:01\r\u001b[K     |███████████████▊                | 1.6MB 8.9MB/s eta 0:00:01\r\u001b[K     |███████████████▉                | 1.6MB 8.9MB/s eta 0:00:01\r\u001b[K     |████████████████                | 1.6MB 8.9MB/s eta 0:00:01\r\u001b[K     |████████████████                | 1.6MB 8.9MB/s eta 0:00:01\r\u001b[K     |████████████████                | 1.7MB 8.9MB/s eta 0:00:01\r\u001b[K     |████████████████▏               | 1.7MB 8.9MB/s eta 0:00:01\r\u001b[K     |████████████████▎               | 1.7MB 8.9MB/s eta 0:00:01\r\u001b[K     |████████████████▍               | 1.7MB 8.9MB/s eta 0:00:01\r\u001b[K     |████████████████▌               | 1.7MB 8.9MB/s eta 0:00:01\r\u001b[K     |████████████████▋               | 1.7MB 8.9MB/s eta 0:00:01\r\u001b[K     |████████████████▊               | 1.7MB 8.9MB/s eta 0:00:01\r\u001b[K     |████████████████▉               | 1.7MB 8.9MB/s eta 0:00:01\r\u001b[K     |████████████████▉               | 1.7MB 8.9MB/s eta 0:00:01\r\u001b[K     |█████████████████               | 1.8MB 8.9MB/s eta 0:00:01\r\u001b[K     |█████████████████               | 1.8MB 8.9MB/s eta 0:00:01\r\u001b[K     |█████████████████▏              | 1.8MB 8.9MB/s eta 0:00:01\r\u001b[K     |█████████████████▎              | 1.8MB 8.9MB/s eta 0:00:01\r\u001b[K     |█████████████████▍              | 1.8MB 8.9MB/s eta 0:00:01\r\u001b[K     |█████████████████▌              | 1.8MB 8.9MB/s eta 0:00:01\r\u001b[K     |█████████████████▋              | 1.8MB 8.9MB/s eta 0:00:01\r\u001b[K     |█████████████████▊              | 1.8MB 8.9MB/s eta 0:00:01\r\u001b[K     |█████████████████▉              | 1.8MB 8.9MB/s eta 0:00:01\r\u001b[K     |█████████████████▉              | 1.8MB 8.9MB/s eta 0:00:01\r\u001b[K     |██████████████████              | 1.9MB 8.9MB/s eta 0:00:01\r\u001b[K     |██████████████████              | 1.9MB 8.9MB/s eta 0:00:01\r\u001b[K     |██████████████████▏             | 1.9MB 8.9MB/s eta 0:00:01\r\u001b[K     |██████████████████▎             | 1.9MB 8.9MB/s eta 0:00:01\r\u001b[K     |██████████████████▍             | 1.9MB 8.9MB/s eta 0:00:01\r\u001b[K     |██████████████████▌             | 1.9MB 8.9MB/s eta 0:00:01\r\u001b[K     |██████████████████▋             | 1.9MB 8.9MB/s eta 0:00:01\r\u001b[K     |██████████████████▊             | 1.9MB 8.9MB/s eta 0:00:01\r\u001b[K     |██████████████████▊             | 1.9MB 8.9MB/s eta 0:00:01\r\u001b[K     |██████████████████▉             | 1.9MB 8.9MB/s eta 0:00:01\r\u001b[K     |███████████████████             | 2.0MB 8.9MB/s eta 0:00:01\r\u001b[K     |███████████████████             | 2.0MB 8.9MB/s eta 0:00:01\r\u001b[K     |███████████████████▏            | 2.0MB 8.9MB/s eta 0:00:01\r\u001b[K     |███████████████████▎            | 2.0MB 8.9MB/s eta 0:00:01\r\u001b[K     |███████████████████▍            | 2.0MB 8.9MB/s eta 0:00:01\r\u001b[K     |███████████████████▌            | 2.0MB 8.9MB/s eta 0:00:01\r\u001b[K     |███████████████████▋            | 2.0MB 8.9MB/s eta 0:00:01\r\u001b[K     |███████████████████▊            | 2.0MB 8.9MB/s eta 0:00:01\r\u001b[K     |███████████████████▊            | 2.0MB 8.9MB/s eta 0:00:01\r\u001b[K     |███████████████████▉            | 2.0MB 8.9MB/s eta 0:00:01\r\u001b[K     |████████████████████            | 2.1MB 8.9MB/s eta 0:00:01\r\u001b[K     |████████████████████            | 2.1MB 8.9MB/s eta 0:00:01\r\u001b[K     |████████████████████▏           | 2.1MB 8.9MB/s eta 0:00:01\r\u001b[K     |████████████████████▎           | 2.1MB 8.9MB/s eta 0:00:01\r\u001b[K     |████████████████████▍           | 2.1MB 8.9MB/s eta 0:00:01\r\u001b[K     |████████████████████▌           | 2.1MB 8.9MB/s eta 0:00:01\r\u001b[K     |████████████████████▋           | 2.1MB 8.9MB/s eta 0:00:01\r\u001b[K     |████████████████████▋           | 2.1MB 8.9MB/s eta 0:00:01\r\u001b[K     |████████████████████▊           | 2.1MB 8.9MB/s eta 0:00:01\r\u001b[K     |████████████████████▉           | 2.2MB 8.9MB/s eta 0:00:01\r\u001b[K     |█████████████████████           | 2.2MB 8.9MB/s eta 0:00:01\r\u001b[K     |█████████████████████           | 2.2MB 8.9MB/s eta 0:00:01\r\u001b[K     |█████████████████████▏          | 2.2MB 8.9MB/s eta 0:00:01\r\u001b[K     |█████████████████████▎          | 2.2MB 8.9MB/s eta 0:00:01\r\u001b[K     |█████████████████████▍          | 2.2MB 8.9MB/s eta 0:00:01\r\u001b[K     |█████████████████████▌          | 2.2MB 8.9MB/s eta 0:00:01\r\u001b[K     |█████████████████████▋          | 2.2MB 8.9MB/s eta 0:00:01\r\u001b[K     |█████████████████████▋          | 2.2MB 8.9MB/s eta 0:00:01\r\u001b[K     |█████████████████████▊          | 2.2MB 8.9MB/s eta 0:00:01\r\u001b[K     |█████████████████████▉          | 2.3MB 8.9MB/s eta 0:00:01\r\u001b[K     |██████████████████████          | 2.3MB 8.9MB/s eta 0:00:01\r\u001b[K     |██████████████████████          | 2.3MB 8.9MB/s eta 0:00:01\r\u001b[K     |██████████████████████▏         | 2.3MB 8.9MB/s eta 0:00:01\r\u001b[K     |██████████████████████▎         | 2.3MB 8.9MB/s eta 0:00:01\r\u001b[K     |██████████████████████▍         | 2.3MB 8.9MB/s eta 0:00:01\r\u001b[K     |██████████████████████▌         | 2.3MB 8.9MB/s eta 0:00:01\r\u001b[K     |██████████████████████▌         | 2.3MB 8.9MB/s eta 0:00:01\r\u001b[K     |██████████████████████▋         | 2.3MB 8.9MB/s eta 0:00:01\r\u001b[K     |██████████████████████▊         | 2.3MB 8.9MB/s eta 0:00:01\r\u001b[K     |██████████████████████▉         | 2.4MB 8.9MB/s eta 0:00:01\r\u001b[K     |███████████████████████         | 2.4MB 8.9MB/s eta 0:00:01\r\u001b[K     |███████████████████████         | 2.4MB 8.9MB/s eta 0:00:01\r\u001b[K     |███████████████████████▏        | 2.4MB 8.9MB/s eta 0:00:01\r\u001b[K     |███████████████████████▎        | 2.4MB 8.9MB/s eta 0:00:01\r\u001b[K     |███████████████████████▍        | 2.4MB 8.9MB/s eta 0:00:01\r\u001b[K     |███████████████████████▍        | 2.4MB 8.9MB/s eta 0:00:01\r\u001b[K     |███████████████████████▌        | 2.4MB 8.9MB/s eta 0:00:01\r\u001b[K     |███████████████████████▋        | 2.4MB 8.9MB/s eta 0:00:01\r\u001b[K     |███████████████████████▊        | 2.4MB 8.9MB/s eta 0:00:01\r\u001b[K     |███████████████████████▉        | 2.5MB 8.9MB/s eta 0:00:01\r\u001b[K     |████████████████████████        | 2.5MB 8.9MB/s eta 0:00:01\r\u001b[K     |████████████████████████        | 2.5MB 8.9MB/s eta 0:00:01\r\u001b[K     |████████████████████████▏       | 2.5MB 8.9MB/s eta 0:00:01\r\u001b[K     |████████████████████████▎       | 2.5MB 8.9MB/s eta 0:00:01\r\u001b[K     |████████████████████████▍       | 2.5MB 8.9MB/s eta 0:00:01\r\u001b[K     |████████████████████████▍       | 2.5MB 8.9MB/s eta 0:00:01\r\u001b[K     |████████████████████████▌       | 2.5MB 8.9MB/s eta 0:00:01\r\u001b[K     |████████████████████████▋       | 2.5MB 8.9MB/s eta 0:00:01\r\u001b[K     |████████████████████████▊       | 2.5MB 8.9MB/s eta 0:00:01\r\u001b[K     |████████████████████████▉       | 2.6MB 8.9MB/s eta 0:00:01\r\u001b[K     |█████████████████████████       | 2.6MB 8.9MB/s eta 0:00:01\r\u001b[K     |█████████████████████████       | 2.6MB 8.9MB/s eta 0:00:01\r\u001b[K     |█████████████████████████▏      | 2.6MB 8.9MB/s eta 0:00:01\r\u001b[K     |█████████████████████████▎      | 2.6MB 8.9MB/s eta 0:00:01\r\u001b[K     |█████████████████████████▎      | 2.6MB 8.9MB/s eta 0:00:01\r\u001b[K     |█████████████████████████▍      | 2.6MB 8.9MB/s eta 0:00:01\r\u001b[K     |█████████████████████████▌      | 2.6MB 8.9MB/s eta 0:00:01\r\u001b[K     |█████████████████████████▋      | 2.6MB 8.9MB/s eta 0:00:01\r\u001b[K     |█████████████████████████▊      | 2.7MB 8.9MB/s eta 0:00:01\r\u001b[K     |█████████████████████████▉      | 2.7MB 8.9MB/s eta 0:00:01\r\u001b[K     |██████████████████████████      | 2.7MB 8.9MB/s eta 0:00:01\r\u001b[K     |██████████████████████████      | 2.7MB 8.9MB/s eta 0:00:01\r\u001b[K     |██████████████████████████▏     | 2.7MB 8.9MB/s eta 0:00:01\r\u001b[K     |██████████████████████████▎     | 2.7MB 8.9MB/s eta 0:00:01\r\u001b[K     |██████████████████████████▎     | 2.7MB 8.9MB/s eta 0:00:01\r\u001b[K     |██████████████████████████▍     | 2.7MB 8.9MB/s eta 0:00:01\r\u001b[K     |██████████████████████████▌     | 2.7MB 8.9MB/s eta 0:00:01\r\u001b[K     |██████████████████████████▋     | 2.7MB 8.9MB/s eta 0:00:01\r\u001b[K     |██████████████████████████▊     | 2.8MB 8.9MB/s eta 0:00:01\r\u001b[K     |██████████████████████████▉     | 2.8MB 8.9MB/s eta 0:00:01\r\u001b[K     |███████████████████████████     | 2.8MB 8.9MB/s eta 0:00:01\r\u001b[K     |███████████████████████████     | 2.8MB 8.9MB/s eta 0:00:01\r\u001b[K     |███████████████████████████▏    | 2.8MB 8.9MB/s eta 0:00:01\r\u001b[K     |███████████████████████████▏    | 2.8MB 8.9MB/s eta 0:00:01\r\u001b[K     |███████████████████████████▎    | 2.8MB 8.9MB/s eta 0:00:01\r\u001b[K     |███████████████████████████▍    | 2.8MB 8.9MB/s eta 0:00:01\r\u001b[K     |███████████████████████████▌    | 2.8MB 8.9MB/s eta 0:00:01\r\u001b[K     |███████████████████████████▋    | 2.8MB 8.9MB/s eta 0:00:01\r\u001b[K     |███████████████████████████▊    | 2.9MB 8.9MB/s eta 0:00:01\r\u001b[K     |███████████████████████████▉    | 2.9MB 8.9MB/s eta 0:00:01\r\u001b[K     |████████████████████████████    | 2.9MB 8.9MB/s eta 0:00:01\r\u001b[K     |████████████████████████████    | 2.9MB 8.9MB/s eta 0:00:01\r\u001b[K     |████████████████████████████▏   | 2.9MB 8.9MB/s eta 0:00:01\r\u001b[K     |████████████████████████████▏   | 2.9MB 8.9MB/s eta 0:00:01\r\u001b[K     |████████████████████████████▎   | 2.9MB 8.9MB/s eta 0:00:01\r\u001b[K     |████████████████████████████▍   | 2.9MB 8.9MB/s eta 0:00:01\r\u001b[K     |████████████████████████████▌   | 2.9MB 8.9MB/s eta 0:00:01\r\u001b[K     |████████████████████████████▋   | 2.9MB 8.9MB/s eta 0:00:01\r\u001b[K     |████████████████████████████▊   | 3.0MB 8.9MB/s eta 0:00:01\r\u001b[K     |████████████████████████████▉   | 3.0MB 8.9MB/s eta 0:00:01\r\u001b[K     |█████████████████████████████   | 3.0MB 8.9MB/s eta 0:00:01\r\u001b[K     |█████████████████████████████   | 3.0MB 8.9MB/s eta 0:00:01\r\u001b[K     |█████████████████████████████   | 3.0MB 8.9MB/s eta 0:00:01\r\u001b[K     |█████████████████████████████▏  | 3.0MB 8.9MB/s eta 0:00:01\r\u001b[K     |█████████████████████████████▎  | 3.0MB 8.9MB/s eta 0:00:01\r\u001b[K     |█████████████████████████████▍  | 3.0MB 8.9MB/s eta 0:00:01\r\u001b[K     |█████████████████████████████▌  | 3.0MB 8.9MB/s eta 0:00:01\r\u001b[K     |█████████████████████████████▋  | 3.1MB 8.9MB/s eta 0:00:01\r\u001b[K     |█████████████████████████████▊  | 3.1MB 8.9MB/s eta 0:00:01\r\u001b[K     |█████████████████████████████▉  | 3.1MB 8.9MB/s eta 0:00:01\r\u001b[K     |██████████████████████████████  | 3.1MB 8.9MB/s eta 0:00:01\r\u001b[K     |██████████████████████████████  | 3.1MB 8.9MB/s eta 0:00:01\r\u001b[K     |██████████████████████████████  | 3.1MB 8.9MB/s eta 0:00:01\r\u001b[K     |██████████████████████████████▏ | 3.1MB 8.9MB/s eta 0:00:01\r\u001b[K     |██████████████████████████████▎ | 3.1MB 8.9MB/s eta 0:00:01\r\u001b[K     |██████████████████████████████▍ | 3.1MB 8.9MB/s eta 0:00:01\r\u001b[K     |██████████████████████████████▌ | 3.1MB 8.9MB/s eta 0:00:01\r\u001b[K     |██████████████████████████████▋ | 3.2MB 8.9MB/s eta 0:00:01\r\u001b[K     |██████████████████████████████▊ | 3.2MB 8.9MB/s eta 0:00:01\r\u001b[K     |██████████████████████████████▉ | 3.2MB 8.9MB/s eta 0:00:01\r\u001b[K     |███████████████████████████████ | 3.2MB 8.9MB/s eta 0:00:01\r\u001b[K     |███████████████████████████████ | 3.2MB 8.9MB/s eta 0:00:01\r\u001b[K     |███████████████████████████████ | 3.2MB 8.9MB/s eta 0:00:01\r\u001b[K     |███████████████████████████████▏| 3.2MB 8.9MB/s eta 0:00:01\r\u001b[K     |███████████████████████████████▎| 3.2MB 8.9MB/s eta 0:00:01\r\u001b[K     |███████████████████████████████▍| 3.2MB 8.9MB/s eta 0:00:01\r\u001b[K     |███████████████████████████████▌| 3.2MB 8.9MB/s eta 0:00:01\r\u001b[K     |███████████████████████████████▋| 3.3MB 8.9MB/s eta 0:00:01\r\u001b[K     |███████████████████████████████▊| 3.3MB 8.9MB/s eta 0:00:01\r\u001b[K     |███████████████████████████████▉| 3.3MB 8.9MB/s eta 0:00:01\r\u001b[K     |███████████████████████████████▉| 3.3MB 8.9MB/s eta 0:00:01\r\u001b[K     |████████████████████████████████| 3.3MB 8.9MB/s eta 0:00:01\r\u001b[K     |████████████████████████████████| 3.3MB 8.9MB/s \n",
            "\u001b[?25hVersion:  2.2.0-rc4\n",
            "Eager mode:  True\n",
            "Hub version:  0.8.0\n",
            "GPU is available\n"
          ],
          "name": "stdout"
        }
      ]
    },
    {
      "cell_type": "code",
      "metadata": {
        "id": "3BaDp1iac6Jj",
        "colab_type": "code",
        "outputId": "34041f37-58a9-4d72-ef0c-3e9d4338bbae",
        "colab": {
          "base_uri": "https://localhost:8080/",
          "height": 353,
          "referenced_widgets": [
            "80309805a1934fb9b766ad97330bf6c3",
            "e4ab8de39e344348961ac512b151ae5a",
            "f7a4707d70984084807de5cc4792a6c7",
            "29f00123978a473eab2923ce2b9bdbed",
            "34012f991c964c27a28dd4f1f69e6493",
            "81670e10e2824e63a8ab0df65e834ae2",
            "8a542da8137b4f938a95e4eb2c9ee9d9",
            "36ab7642ead34f6684f366550e6660c2",
            "97db78cf2df347ff9aa3a0d50329a200",
            "b65f2fc285b540618df4a4170474786b",
            "1a061386e3f946e3a938e525e8d6f7bc",
            "f6b4ecaa1cc6486ebc6aa9a44ff92bf2",
            "c5a97caf9056495dacb485b98c9aaa88",
            "1885dac18dce4850bb419c56ab0d9327",
            "ecdd71df00a54f9ea1e52047b6d78547",
            "931e1cd0329547f68596d67be3a762ff",
            "3cf3f42961214ea3863d12433e6613ca",
            "ea798cb1d4294b88a35dd388f29a29ed",
            "92be5cd112b040ba8a1bc86e8d6ebed3",
            "53d9cbabde3f4bfcb455cca7c0b5868e",
            "52ab67a478d84dcd8f34648b02adcdea",
            "87ad27d8a7a74b169c31a5c61ff38b8c",
            "e7c7a48fe2844b90bc66ba727f543ea9",
            "7875e4a8027e496898313a16e4c430d1",
            "88e6a62e997a46b8a1f033b4c313295f",
            "a65827e9c44646c5965e726d65f9f407",
            "8ba556eda8ed491b95b03f0d40eee0a8",
            "7b938121830b4c3faa4b89d1e8b6b2fd",
            "a4127969683f4b4ba83a3733237b0bce",
            "f8a84a47641e49cba0e7b3b4facdb95c",
            "f441889bf37b4fa79d5f2c41b8a1a21f",
            "458e8c8c4b4f47a88dc33750cf277730",
            "deb2870ef4e8457f8cc1338705eb1391",
            "cb34bf8f14fa49f58523dcd793238e24",
            "e2bf54b895de4c6f9408f7edcfa602ec",
            "fd5188b11570431081f7ea8cc1cc8155",
            "a1729937f8ea43aeb58a3203bdd90021",
            "1a009c1a77a343c7af333662f295735f",
            "abc4f2775c5c4f60a1c950fce5b0a972",
            "441ae6535092421587509ce8d573c885",
            "a69b20c7291c4161bb34753c5ff5c599",
            "9e7616a5e889406b9d61b14693bbd474",
            "55dfb2098b9c47558131751bd129a57b",
            "66d202231dec4f0ab6b22a40a6d212f0",
            "1f16c142c76440f9a237ab6df3380a9f",
            "8f982e55542e41cb92a39ea46c826ed5",
            "dee0ed79f6934929acd4f48bc44a1288",
            "cc160b25c5bb475bb73c2caddd9571a1",
            "747e72e708da498da03e4b885ec258d5",
            "98476e4ba10c4a41828d0ef8b8a2fd58",
            "8a3308f8a2b94261bc7d8e79b29231c0",
            "7b6797071470420fb6b8b8ff72dec5e2",
            "2c22ff1f7cf54680a6c019e0120cdaa4",
            "544ed094a7e5409ca354dad6219ba7e2",
            "07ce0a3179ae4b48b907d5d18c496607",
            "7afca30ce53f4f0f99942fff757a8957",
            "65eda15d003e4409a5b17c8a3d4ea899",
            "6d933f77a81740d68dd4097d019ce800",
            "4afa272a4aa742f4958a097ca5950f51",
            "38ab17ccad794d729105029df9dea2b0",
            "f8934351fa2148d7878563949d4abcfc",
            "b5e57626a88f45ef88cef4aac061c013",
            "2b23bc0878534c3dbd552246939ff26b",
            "0b780a6d95f3472eaeeff572a221c31a"
          ]
        }
      },
      "source": [
        "train_data, validation_data, test_data = tfds.load(\n",
        "    name=\"imdb_reviews\", \n",
        "    split=('train[:60%]', 'train[60%:]', 'test'),\n",
        "    as_supervised=True)"
      ],
      "execution_count": 2,
      "outputs": [
        {
          "output_type": "stream",
          "text": [
            "\u001b[1mDownloading and preparing dataset imdb_reviews/plain_text/1.0.0 (download: 80.23 MiB, generated: Unknown size, total: 80.23 MiB) to /root/tensorflow_datasets/imdb_reviews/plain_text/1.0.0...\u001b[0m\n"
          ],
          "name": "stdout"
        },
        {
          "output_type": "display_data",
          "data": {
            "application/vnd.jupyter.widget-view+json": {
              "model_id": "80309805a1934fb9b766ad97330bf6c3",
              "version_minor": 0,
              "version_major": 2
            },
            "text/plain": [
              "HBox(children=(IntProgress(value=1, bar_style='info', description='Dl Completed...', max=1, style=ProgressStyl…"
            ]
          },
          "metadata": {
            "tags": []
          }
        },
        {
          "output_type": "display_data",
          "data": {
            "application/vnd.jupyter.widget-view+json": {
              "model_id": "97db78cf2df347ff9aa3a0d50329a200",
              "version_minor": 0,
              "version_major": 2
            },
            "text/plain": [
              "HBox(children=(IntProgress(value=1, bar_style='info', description='Dl Size...', max=1, style=ProgressStyle(des…"
            ]
          },
          "metadata": {
            "tags": []
          }
        },
        {
          "output_type": "stream",
          "text": [
            "\n",
            "\n",
            "\n",
            "\n"
          ],
          "name": "stdout"
        },
        {
          "output_type": "display_data",
          "data": {
            "application/vnd.jupyter.widget-view+json": {
              "model_id": "3cf3f42961214ea3863d12433e6613ca",
              "version_minor": 0,
              "version_major": 2
            },
            "text/plain": [
              "HBox(children=(IntProgress(value=1, bar_style='info', max=1), HTML(value='')))"
            ]
          },
          "metadata": {
            "tags": []
          }
        },
        {
          "output_type": "stream",
          "text": [
            "\rShuffling and writing examples to /root/tensorflow_datasets/imdb_reviews/plain_text/1.0.0.incompleteBFF7EJ/imdb_reviews-train.tfrecord\n"
          ],
          "name": "stdout"
        },
        {
          "output_type": "display_data",
          "data": {
            "application/vnd.jupyter.widget-view+json": {
              "model_id": "88e6a62e997a46b8a1f033b4c313295f",
              "version_minor": 0,
              "version_major": 2
            },
            "text/plain": [
              "HBox(children=(IntProgress(value=0, max=25000), HTML(value='')))"
            ]
          },
          "metadata": {
            "tags": []
          }
        },
        {
          "output_type": "stream",
          "text": [
            "\r"
          ],
          "name": "stdout"
        },
        {
          "output_type": "display_data",
          "data": {
            "application/vnd.jupyter.widget-view+json": {
              "model_id": "deb2870ef4e8457f8cc1338705eb1391",
              "version_minor": 0,
              "version_major": 2
            },
            "text/plain": [
              "HBox(children=(IntProgress(value=1, bar_style='info', max=1), HTML(value='')))"
            ]
          },
          "metadata": {
            "tags": []
          }
        },
        {
          "output_type": "stream",
          "text": [
            "\rShuffling and writing examples to /root/tensorflow_datasets/imdb_reviews/plain_text/1.0.0.incompleteBFF7EJ/imdb_reviews-test.tfrecord\n"
          ],
          "name": "stdout"
        },
        {
          "output_type": "display_data",
          "data": {
            "application/vnd.jupyter.widget-view+json": {
              "model_id": "a69b20c7291c4161bb34753c5ff5c599",
              "version_minor": 0,
              "version_major": 2
            },
            "text/plain": [
              "HBox(children=(IntProgress(value=0, max=25000), HTML(value='')))"
            ]
          },
          "metadata": {
            "tags": []
          }
        },
        {
          "output_type": "stream",
          "text": [
            "\r"
          ],
          "name": "stdout"
        },
        {
          "output_type": "display_data",
          "data": {
            "application/vnd.jupyter.widget-view+json": {
              "model_id": "747e72e708da498da03e4b885ec258d5",
              "version_minor": 0,
              "version_major": 2
            },
            "text/plain": [
              "HBox(children=(IntProgress(value=1, bar_style='info', max=1), HTML(value='')))"
            ]
          },
          "metadata": {
            "tags": []
          }
        },
        {
          "output_type": "stream",
          "text": [
            "\rShuffling and writing examples to /root/tensorflow_datasets/imdb_reviews/plain_text/1.0.0.incompleteBFF7EJ/imdb_reviews-unsupervised.tfrecord\n"
          ],
          "name": "stdout"
        },
        {
          "output_type": "display_data",
          "data": {
            "application/vnd.jupyter.widget-view+json": {
              "model_id": "65eda15d003e4409a5b17c8a3d4ea899",
              "version_minor": 0,
              "version_major": 2
            },
            "text/plain": [
              "HBox(children=(IntProgress(value=0, max=50000), HTML(value='')))"
            ]
          },
          "metadata": {
            "tags": []
          }
        },
        {
          "output_type": "stream",
          "text": [
            "\u001b[1mDataset imdb_reviews downloaded and prepared to /root/tensorflow_datasets/imdb_reviews/plain_text/1.0.0. Subsequent calls will reuse this data.\u001b[0m\n",
            "\r"
          ],
          "name": "stdout"
        }
      ]
    },
    {
      "cell_type": "code",
      "metadata": {
        "id": "hwYM9oYdc6VE",
        "colab_type": "code",
        "outputId": "50de798c-a04c-45b5-9e8c-efe14293d11b",
        "colab": {
          "base_uri": "https://localhost:8080/",
          "height": 245
        }
      },
      "source": [
        "train_examples_batch, train_labels_batch = next(iter(train_data.batch(10)))\n",
        "train_examples_batch"
      ],
      "execution_count": 3,
      "outputs": [
        {
          "output_type": "execute_result",
          "data": {
            "text/plain": [
              "<tf.Tensor: shape=(10,), dtype=string, numpy=\n",
              "array([b\"This was an absolutely terrible movie. Don't be lured in by Christopher Walken or Michael Ironside. Both are great actors, but this must simply be their worst role in history. Even their great acting could not redeem this movie's ridiculous storyline. This movie is an early nineties US propaganda piece. The most pathetic scenes were those when the Columbian rebels were making their cases for revolutions. Maria Conchita Alonso appeared phony, and her pseudo-love affair with Walken was nothing but a pathetic emotional plug in a movie that was devoid of any real meaning. I am disappointed that there are movies like this, ruining actor's like Christopher Walken's good name. I could barely sit through it.\",\n",
              "       b'I have been known to fall asleep during films, but this is usually due to a combination of things including, really tired, being warm and comfortable on the sette and having just eaten a lot. However on this occasion I fell asleep because the film was rubbish. The plot development was constant. Constantly slow and boring. Things seemed to happen, but with no explanation of what was causing them or why. I admit, I may have missed part of the film, but i watched the majority of it and everything just seemed to happen of its own accord without any real concern for anything else. I cant recommend this film at all.',\n",
              "       b'Mann photographs the Alberta Rocky Mountains in a superb fashion, and Jimmy Stewart and Walter Brennan give enjoyable performances as they always seem to do. <br /><br />But come on Hollywood - a Mountie telling the people of Dawson City, Yukon to elect themselves a marshal (yes a marshal!) and to enforce the law themselves, then gunfighters battling it out on the streets for control of the town? <br /><br />Nothing even remotely resembling that happened on the Canadian side of the border during the Klondike gold rush. Mr. Mann and company appear to have mistaken Dawson City for Deadwood, the Canadian North for the American Wild West.<br /><br />Canadian viewers be prepared for a Reefer Madness type of enjoyable howl with this ludicrous plot, or, to shake your head in disgust.',\n",
              "       b'This is the kind of film for a snowy Sunday afternoon when the rest of the world can go ahead with its own business as you descend into a big arm-chair and mellow for a couple of hours. Wonderful performances from Cher and Nicolas Cage (as always) gently row the plot along. There are no rapids to cross, no dangerous waters, just a warm and witty paddle through New York life at its best. A family film in every sense and one that deserves the praise it received.',\n",
              "       b'As others have mentioned, all the women that go nude in this film are mostly absolutely gorgeous. The plot very ably shows the hypocrisy of the female libido. When men are around they want to be pursued, but when no \"men\" are around, they become the pursuers of a 14 year old boy. And the boy becomes a man really fast (we should all be so lucky at this age!). He then gets up the courage to pursue his true love.',\n",
              "       b\"This is a film which should be seen by anybody interested in, effected by, or suffering from an eating disorder. It is an amazingly accurate and sensitive portrayal of bulimia in a teenage girl, its causes and its symptoms. The girl is played by one of the most brilliant young actresses working in cinema today, Alison Lohman, who was later so spectacular in 'Where the Truth Lies'. I would recommend that this film be shown in all schools, as you will never see a better on this subject. Alison Lohman is absolutely outstanding, and one marvels at her ability to convey the anguish of a girl suffering from this compulsive disorder. If barometers tell us the air pressure, Alison Lohman tells us the emotional pressure with the same degree of accuracy. Her emotional range is so precise, each scene could be measured microscopically for its gradations of trauma, on a scale of rising hysteria and desperation which reaches unbearable intensity. Mare Winningham is the perfect choice to play her mother, and does so with immense sympathy and a range of emotions just as finely tuned as Lohman's. Together, they make a pair of sensitive emotional oscillators vibrating in resonance with one another. This film is really an astonishing achievement, and director Katt Shea should be proud of it. The only reason for not seeing it is if you are not interested in people. But even if you like nature films best, this is after all animal behaviour at the sharp edge. Bulimia is an extreme version of how a tormented soul can destroy her own body in a frenzy of despair. And if we don't sympathise with people suffering from the depths of despair, then we are dead inside.\",\n",
              "       b'Okay, you have:<br /><br />Penelope Keith as Miss Herringbone-Tweed, B.B.E. (Backbone of England.) She\\'s killed off in the first scene - that\\'s right, folks; this show has no backbone!<br /><br />Peter O\\'Toole as Ol\\' Colonel Cricket from The First War and now the emblazered Lord of the Manor.<br /><br />Joanna Lumley as the ensweatered Lady of the Manor, 20 years younger than the colonel and 20 years past her own prime but still glamourous (Brit spelling, not mine) enough to have a toy-boy on the side. It\\'s alright, they have Col. Cricket\\'s full knowledge and consent (they guy even comes \\'round for Christmas!) Still, she\\'s considerate of the colonel enough to have said toy-boy her own age (what a gal!)<br /><br />David McCallum as said toy-boy, equally as pointlessly glamourous as his squeeze. Pilcher couldn\\'t come up with any cover for him within the story, so she gave him a hush-hush job at the Circus.<br /><br />and finally:<br /><br />Susan Hampshire as Miss Polonia Teacups, Venerable Headmistress of the Venerable Girls\\' Boarding-School, serving tea in her office with a dash of deep, poignant advice for life in the outside world just before graduation. Her best bit of advice: \"I\\'ve only been to Nancherrow (the local Stately Home of England) once. I thought it was very beautiful but, somehow, not part of the real world.\" Well, we can\\'t say they didn\\'t warn us.<br /><br />Ah, Susan - time was, your character would have been running the whole show. They don\\'t write \\'em like that any more. Our loss, not yours.<br /><br />So - with a cast and setting like this, you have the re-makings of \"Brideshead Revisited,\" right?<br /><br />Wrong! They took these 1-dimensional supporting roles because they paid so well. After all, acting is one of the oldest temp-jobs there is (YOU name another!)<br /><br />First warning sign: lots and lots of backlighting. They get around it by shooting outdoors - \"hey, it\\'s just the sunlight!\"<br /><br />Second warning sign: Leading Lady cries a lot. When not crying, her eyes are moist. That\\'s the law of romance novels: Leading Lady is \"dewy-eyed.\"<br /><br />Henceforth, Leading Lady shall be known as L.L.<br /><br />Third warning sign: L.L. actually has stars in her eyes when she\\'s in love. Still, I\\'ll give Emily Mortimer an award just for having to act with that spotlight in her eyes (I wonder . did they use contacts?)<br /><br />And lastly, fourth warning sign: no on-screen female character is \"Mrs.\" She\\'s either \"Miss\" or \"Lady.\"<br /><br />When all was said and done, I still couldn\\'t tell you who was pursuing whom and why. I couldn\\'t even tell you what was said and done.<br /><br />To sum up: they all live through World War II without anything happening to them at all.<br /><br />OK, at the end, L.L. finds she\\'s lost her parents to the Japanese prison camps and baby sis comes home catatonic. Meanwhile (there\\'s always a \"meanwhile,\") some young guy L.L. had a crush on (when, I don\\'t know) comes home from some wartime tough spot and is found living on the street by Lady of the Manor (must be some street if SHE\\'s going to find him there.) Both war casualties are whisked away to recover at Nancherrow (SOMEBODY has to be \"whisked away\" SOMEWHERE in these romance stories!)<br /><br />Great drama.',\n",
              "       b'The film is based on a genuine 1950s novel.<br /><br />Journalist Colin McInnes wrote a set of three \"London novels\": \"Absolute Beginners\", \"City of Spades\" and \"Mr Love and Justice\". I have read all three. The first two are excellent. The last, perhaps an experiment that did not come off. But McInnes\\'s work is highly acclaimed; and rightly so. This musical is the novelist\\'s ultimate nightmare - to see the fruits of one\\'s mind being turned into a glitzy, badly-acted, soporific one-dimensional apology of a film that says it captures the spirit of 1950s London, and does nothing of the sort.<br /><br />Thank goodness Colin McInnes wasn\\'t alive to witness it.',\n",
              "       b'I really love the sexy action and sci-fi films of the sixties and its because of the actress\\'s that appeared in them. They found the sexiest women to be in these films and it didn\\'t matter if they could act (Remember \"Candy\"?). The reason I was disappointed by this film was because it wasn\\'t nostalgic enough. The story here has a European sci-fi film called \"Dragonfly\" being made and the director is fired. So the producers decide to let a young aspiring filmmaker (Jeremy Davies) to complete the picture. They\\'re is one real beautiful woman in the film who plays Dragonfly but she\\'s barely in it. Film is written and directed by Roman Coppola who uses some of his fathers exploits from his early days and puts it into the script. I wish the film could have been an homage to those early films. They could have lots of cameos by actors who appeared in them. There is one actor in this film who was popular from the sixties and its John Phillip Law (Barbarella). Gerard Depardieu, Giancarlo Giannini and Dean Stockwell appear as well. I guess I\\'m going to have to continue waiting for a director to make a good homage to the films of the sixties. If any are reading this, \"Make it as sexy as you can\"! I\\'ll be waiting!',\n",
              "       b'Sure, this one isn\\'t really a blockbuster, nor does it target such a position. \"Dieter\" is the first name of a quite popular German musician, who is either loved or hated for his kind of acting and thats exactly what this movie is about. It is based on the autobiography \"Dieter Bohlen\" wrote a few years ago but isn\\'t meant to be accurate on that. The movie is filled with some sexual offensive content (at least for American standard) which is either amusing (not for the other \"actors\" of course) or dumb - it depends on your individual kind of humor or on you being a \"Bohlen\"-Fan or not. Technically speaking there isn\\'t much to criticize. Speaking of me I find this movie to be an OK-movie.'],\n",
              "      dtype=object)>"
            ]
          },
          "metadata": {
            "tags": []
          },
          "execution_count": 3
        }
      ]
    },
    {
      "cell_type": "code",
      "metadata": {
        "id": "nJA3lqBHc6eC",
        "colab_type": "code",
        "colab": {
          "base_uri": "https://localhost:8080/",
          "height": 124
        },
        "outputId": "6df2149a-6b11-42bb-be11-a17d826af2ce"
      },
      "source": [
        "train_examples_batch[:3]"
      ],
      "execution_count": 14,
      "outputs": [
        {
          "output_type": "execute_result",
          "data": {
            "text/plain": [
              "<tf.Tensor: shape=(3,), dtype=string, numpy=\n",
              "array([b\"This was an absolutely terrible movie. Don't be lured in by Christopher Walken or Michael Ironside. Both are great actors, but this must simply be their worst role in history. Even their great acting could not redeem this movie's ridiculous storyline. This movie is an early nineties US propaganda piece. The most pathetic scenes were those when the Columbian rebels were making their cases for revolutions. Maria Conchita Alonso appeared phony, and her pseudo-love affair with Walken was nothing but a pathetic emotional plug in a movie that was devoid of any real meaning. I am disappointed that there are movies like this, ruining actor's like Christopher Walken's good name. I could barely sit through it.\",\n",
              "       b'I have been known to fall asleep during films, but this is usually due to a combination of things including, really tired, being warm and comfortable on the sette and having just eaten a lot. However on this occasion I fell asleep because the film was rubbish. The plot development was constant. Constantly slow and boring. Things seemed to happen, but with no explanation of what was causing them or why. I admit, I may have missed part of the film, but i watched the majority of it and everything just seemed to happen of its own accord without any real concern for anything else. I cant recommend this film at all.',\n",
              "       b'Mann photographs the Alberta Rocky Mountains in a superb fashion, and Jimmy Stewart and Walter Brennan give enjoyable performances as they always seem to do. <br /><br />But come on Hollywood - a Mountie telling the people of Dawson City, Yukon to elect themselves a marshal (yes a marshal!) and to enforce the law themselves, then gunfighters battling it out on the streets for control of the town? <br /><br />Nothing even remotely resembling that happened on the Canadian side of the border during the Klondike gold rush. Mr. Mann and company appear to have mistaken Dawson City for Deadwood, the Canadian North for the American Wild West.<br /><br />Canadian viewers be prepared for a Reefer Madness type of enjoyable howl with this ludicrous plot, or, to shake your head in disgust.'],\n",
              "      dtype=object)>"
            ]
          },
          "metadata": {
            "tags": []
          },
          "execution_count": 14
        }
      ]
    },
    {
      "cell_type": "code",
      "metadata": {
        "id": "fSCpCNA1c6hW",
        "colab_type": "code",
        "colab": {
          "base_uri": "https://localhost:8080/",
          "height": 260
        },
        "outputId": "75c8bbc7-243e-4389-8c02-c00da7234404"
      },
      "source": [
        "embedding = \"https://tfhub.dev/google/tf2-preview/gnews-swivel-20dim/1\"\n",
        "hub_layer = hub.KerasLayer(embedding, input_shape=[], \n",
        "                           dtype=tf.string, trainable=True)\n",
        "hub_layer(train_examples_batch[:3])"
      ],
      "execution_count": 5,
      "outputs": [
        {
          "output_type": "execute_result",
          "data": {
            "text/plain": [
              "<tf.Tensor: shape=(3, 20), dtype=float32, numpy=\n",
              "array([[ 1.765786  , -3.882232  ,  3.9134233 , -1.5557289 , -3.3362343 ,\n",
              "        -1.7357955 , -1.9954445 ,  1.2989551 ,  5.081598  , -1.1041286 ,\n",
              "        -2.0503852 , -0.72675157, -0.65675956,  0.24436149, -3.7208383 ,\n",
              "         2.0954835 ,  2.2969332 , -2.0689783 , -2.9489717 , -1.1315987 ],\n",
              "       [ 1.8804485 , -2.5852382 ,  3.4066997 ,  1.0982676 , -4.056685  ,\n",
              "        -4.891284  , -2.785554  ,  1.3874227 ,  3.8476458 , -0.9256538 ,\n",
              "        -1.896706  ,  1.2113281 ,  0.11474707,  0.76209456, -4.8791065 ,\n",
              "         2.906149  ,  4.7087674 , -2.3652055 , -3.5015898 , -1.6390051 ],\n",
              "       [ 0.71152234, -0.6353217 ,  1.7385626 , -1.1168286 , -0.5451594 ,\n",
              "        -1.1808156 ,  0.09504455,  1.4653089 ,  0.66059524,  0.79308075,\n",
              "        -2.2268345 ,  0.07446612, -1.4075904 , -0.70645386, -1.907037  ,\n",
              "         1.4419787 ,  1.9551861 , -0.42660055, -2.8022065 ,  0.43727064]],\n",
              "      dtype=float32)>"
            ]
          },
          "metadata": {
            "tags": []
          },
          "execution_count": 5
        }
      ]
    },
    {
      "cell_type": "code",
      "metadata": {
        "id": "kXy9BRx7nsYB",
        "colab_type": "code",
        "colab": {
          "base_uri": "https://localhost:8080/",
          "height": 35
        },
        "outputId": "8445c8f3-b52b-4e07-885d-e2478342b201"
      },
      "source": [
        ""
      ],
      "execution_count": 18,
      "outputs": [
        {
          "output_type": "execute_result",
          "data": {
            "text/plain": [
              "(None,)"
            ]
          },
          "metadata": {
            "tags": []
          },
          "execution_count": 18
        }
      ]
    },
    {
      "cell_type": "code",
      "metadata": {
        "id": "pKOIxEfnbRow",
        "colab_type": "code",
        "colab": {}
      },
      "source": [
        "def create_model():\n",
        "  model = tf.keras.Sequential()\n",
        "  model.add(hub_layer)\n",
        "  model.add(tf.keras.layers.Dense(16, activation='relu'))\n",
        "  model.add(tf.keras.layers.Dense(1))\n",
        "\n",
        "  model.summary()\n",
        "  return model"
      ],
      "execution_count": 0,
      "outputs": []
    },
    {
      "cell_type": "code",
      "metadata": {
        "id": "18ioGqYnbRr7",
        "colab_type": "code",
        "colab": {
          "base_uri": "https://localhost:8080/",
          "height": 260
        },
        "outputId": "24d0940d-aefb-4707-b0c9-78e576eb289f"
      },
      "source": [
        "model = create_model()\n",
        "model.compile(optimizer='adam',\n",
        "              loss=tf.keras.losses.BinaryCrossentropy(from_logits=True),\n",
        "              metrics=['accuracy'])"
      ],
      "execution_count": 60,
      "outputs": [
        {
          "output_type": "stream",
          "text": [
            "Model: \"sequential_1\"\n",
            "_________________________________________________________________\n",
            "Layer (type)                 Output Shape              Param #   \n",
            "=================================================================\n",
            "keras_layer (KerasLayer)     (None, 20)                400020    \n",
            "_________________________________________________________________\n",
            "dense_2 (Dense)              (None, 16)                336       \n",
            "_________________________________________________________________\n",
            "dense_3 (Dense)              (None, 1)                 17        \n",
            "=================================================================\n",
            "Total params: 400,373\n",
            "Trainable params: 400,373\n",
            "Non-trainable params: 0\n",
            "_________________________________________________________________\n"
          ],
          "name": "stdout"
        }
      ]
    },
    {
      "cell_type": "code",
      "metadata": {
        "id": "NLht7L4obRv8",
        "colab_type": "code",
        "colab": {
          "base_uri": "https://localhost:8080/",
          "height": 364
        },
        "outputId": "c6b186fe-403a-486e-b85c-f1375601d2df"
      },
      "source": [
        "history = model.fit(train_data.shuffle(10000).batch(512),\n",
        "                    epochs=10,\n",
        "                    validation_data=validation_data.batch(512),\n",
        "                    verbose=1)"
      ],
      "execution_count": 61,
      "outputs": [
        {
          "output_type": "stream",
          "text": [
            "Epoch 1/10\n",
            "30/30 [==============================] - 2s 78ms/step - loss: 0.8346 - accuracy: 0.5253 - val_loss: 0.6742 - val_accuracy: 0.5714\n",
            "Epoch 2/10\n",
            "30/30 [==============================] - 2s 78ms/step - loss: 0.6204 - accuracy: 0.6080 - val_loss: 0.5905 - val_accuracy: 0.6528\n",
            "Epoch 3/10\n",
            "30/30 [==============================] - 2s 77ms/step - loss: 0.5478 - accuracy: 0.6949 - val_loss: 0.5358 - val_accuracy: 0.6983\n",
            "Epoch 4/10\n",
            "30/30 [==============================] - 2s 74ms/step - loss: 0.4955 - accuracy: 0.7495 - val_loss: 0.4937 - val_accuracy: 0.7480\n",
            "Epoch 5/10\n",
            "30/30 [==============================] - 2s 75ms/step - loss: 0.4505 - accuracy: 0.7841 - val_loss: 0.4561 - val_accuracy: 0.7780\n",
            "Epoch 6/10\n",
            "30/30 [==============================] - 2s 73ms/step - loss: 0.4078 - accuracy: 0.8164 - val_loss: 0.4228 - val_accuracy: 0.8057\n",
            "Epoch 7/10\n",
            "30/30 [==============================] - 2s 73ms/step - loss: 0.3710 - accuracy: 0.8388 - val_loss: 0.3976 - val_accuracy: 0.8102\n",
            "Epoch 8/10\n",
            "30/30 [==============================] - 2s 72ms/step - loss: 0.3420 - accuracy: 0.8513 - val_loss: 0.3783 - val_accuracy: 0.8337\n",
            "Epoch 9/10\n",
            "30/30 [==============================] - 2s 72ms/step - loss: 0.3177 - accuracy: 0.8663 - val_loss: 0.3645 - val_accuracy: 0.8258\n",
            "Epoch 10/10\n",
            "30/30 [==============================] - 2s 73ms/step - loss: 0.2969 - accuracy: 0.8762 - val_loss: 0.3498 - val_accuracy: 0.8465\n"
          ],
          "name": "stdout"
        }
      ]
    },
    {
      "cell_type": "code",
      "metadata": {
        "id": "C6Brt8q7zadq",
        "colab_type": "code",
        "colab": {
          "base_uri": "https://localhost:8080/",
          "height": 35
        },
        "outputId": "44d667e6-df44-4dc1-bc88-9c2e6dc6cf75"
      },
      "source": [
        "model.predict([\"There films is very good, both of us like it\"])"
      ],
      "execution_count": 63,
      "outputs": [
        {
          "output_type": "execute_result",
          "data": {
            "text/plain": [
              "array([[2.1074772]], dtype=float32)"
            ]
          },
          "metadata": {
            "tags": []
          },
          "execution_count": 63
        }
      ]
    },
    {
      "cell_type": "code",
      "metadata": {
        "id": "0oPx8INWzaj8",
        "colab_type": "code",
        "colab": {}
      },
      "source": [
        "model.save_weights('./checkpoints/my_checkpoint')"
      ],
      "execution_count": 0,
      "outputs": []
    },
    {
      "cell_type": "code",
      "metadata": {
        "id": "oz78ML-izazD",
        "colab_type": "code",
        "colab": {
          "base_uri": "https://localhost:8080/",
          "height": 104
        },
        "outputId": "f30326e2-5475-4147-ddd8-cb339aa57489"
      },
      "source": [
        "!ls -l ./checkpoints"
      ],
      "execution_count": 75,
      "outputs": [
        {
          "output_type": "stream",
          "text": [
            "total 4704\n",
            "-rw-r--r-- 1 root root      83 May  7 06:42 checkpoint\n",
            "-rw-r--r-- 1 root root    2611 May  7 06:42 my_checkpoint.data-00000-of-00002\n",
            "-rw-r--r-- 1 root root 4804500 May  7 06:42 my_checkpoint.data-00001-of-00002\n",
            "-rw-r--r-- 1 root root    1489 May  7 06:42 my_checkpoint.index\n"
          ],
          "name": "stdout"
        }
      ]
    },
    {
      "cell_type": "code",
      "metadata": {
        "id": "QGmlNn6s5ROd",
        "colab_type": "code",
        "colab": {}
      },
      "source": [
        "import time\n",
        "def timeit(f):\n",
        "    def wrapper(*args, **kwargs):\n",
        "        start_time = time.time()\n",
        "        res = f(*args, **kwargs)\n",
        "        end_time = time.time()\n",
        "        print(\"%s函数运行时间为：%.8f\" %(f.__name__, end_time - start_time))\n",
        "        return res\n",
        "    return wrapper"
      ],
      "execution_count": 0,
      "outputs": []
    },
    {
      "cell_type": "code",
      "metadata": {
        "id": "1b4q8P1x1IEL",
        "colab_type": "code",
        "colab": {
          "base_uri": "https://localhost:8080/",
          "height": 277
        },
        "outputId": "3993a663-ed35-40ec-b3d8-c52810183a8d"
      },
      "source": [
        "@timeit\n",
        "def run():\n",
        "    model_restore = create_model()\n",
        "    # Restore the weights\n",
        "    model_restore.load_weights('./checkpoints/my_checkpoint')\n",
        "    model_restore.predict_classes([\"There films is very bad, both of us dislike it\"])\n",
        "run()\n"
      ],
      "execution_count": 83,
      "outputs": [
        {
          "output_type": "stream",
          "text": [
            "Model: \"sequential_3\"\n",
            "_________________________________________________________________\n",
            "Layer (type)                 Output Shape              Param #   \n",
            "=================================================================\n",
            "keras_layer (KerasLayer)     (None, 20)                400020    \n",
            "_________________________________________________________________\n",
            "dense_6 (Dense)              (None, 16)                336       \n",
            "_________________________________________________________________\n",
            "dense_7 (Dense)              (None, 1)                 17        \n",
            "=================================================================\n",
            "Total params: 400,373\n",
            "Trainable params: 400,373\n",
            "Non-trainable params: 0\n",
            "_________________________________________________________________\n",
            "run函数运行时间为：0.10680914\n"
          ],
          "name": "stdout"
        }
      ]
    },
    {
      "cell_type": "code",
      "metadata": {
        "id": "zOACX0xp1INh",
        "colab_type": "code",
        "colab": {
          "base_uri": "https://localhost:8080/",
          "height": 35
        },
        "outputId": "889c99f6-4f59-4348-8761-401f5e9879a3"
      },
      "source": [
        ""
      ],
      "execution_count": 79,
      "outputs": [
        {
          "output_type": "execute_result",
          "data": {
            "text/plain": [
              "array([[0]], dtype=int32)"
            ]
          },
          "metadata": {
            "tags": []
          },
          "execution_count": 79
        }
      ]
    },
    {
      "cell_type": "code",
      "metadata": {
        "id": "NawncdD-1IUX",
        "colab_type": "code",
        "colab": {}
      },
      "source": [
        ""
      ],
      "execution_count": 0,
      "outputs": []
    },
    {
      "cell_type": "code",
      "metadata": {
        "id": "GXabNaHLbR05",
        "colab_type": "code",
        "colab": {
          "base_uri": "https://localhost:8080/",
          "height": 69
        },
        "outputId": "1a4ad3cd-8948-44fb-f77c-3b9119bf9efb"
      },
      "source": [
        "results = model.evaluate(test_data.batch(512), verbose=2)\n",
        "\n",
        "for name, value in zip(model.metrics_names, results):\n",
        "  print(\"%s: %.3f\" % (name, value))"
      ],
      "execution_count": 64,
      "outputs": [
        {
          "output_type": "stream",
          "text": [
            "49/49 - 2s - loss: 0.3567 - accuracy: 0.8387\n",
            "loss: 0.357\n",
            "accuracy: 0.839\n"
          ],
          "name": "stdout"
        }
      ]
    },
    {
      "cell_type": "code",
      "metadata": {
        "id": "MqQO5QW2c6ki",
        "colab_type": "code",
        "colab": {
          "base_uri": "https://localhost:8080/",
          "height": 191
        },
        "outputId": "86d0f4d8-50b4-4a6d-ad18-6fb9b84e06a3"
      },
      "source": [
        "import tempfile\n",
        "import os\n",
        "\n",
        "MODEL_DIR = tempfile.gettempdir()\n",
        "version = 1\n",
        "export_path = os.path.join(MODEL_DIR, str(version))\n",
        "print('export_path = {}\\n'.format(export_path))\n",
        "\n",
        "tf.keras.models.save_model(\n",
        "    model,\n",
        "    export_path,\n",
        "    overwrite=True,\n",
        "    include_optimizer=True,\n",
        "    save_format=None,\n",
        "    signatures=None,\n",
        "    options=None\n",
        ")\n",
        "\n",
        "print('\\nSaved model:')\n",
        "!ls -l {export_path}"
      ],
      "execution_count": 65,
      "outputs": [
        {
          "output_type": "stream",
          "text": [
            "export_path = /tmp/1\n",
            "\n",
            "INFO:tensorflow:Assets written to: /tmp/1/assets\n"
          ],
          "name": "stdout"
        },
        {
          "output_type": "stream",
          "text": [
            "INFO:tensorflow:Assets written to: /tmp/1/assets\n"
          ],
          "name": "stderr"
        },
        {
          "output_type": "stream",
          "text": [
            "\n",
            "Saved model:\n",
            "total 120\n",
            "drwxr-xr-x 2 root root   4096 May  7 05:27 assets\n",
            "-rw-r--r-- 1 root root 112136 May  7 06:40 saved_model.pb\n",
            "drwxr-xr-x 2 root root   4096 May  7 06:40 variables\n"
          ],
          "name": "stdout"
        }
      ]
    },
    {
      "cell_type": "code",
      "metadata": {
        "id": "rTQ8lseGd9Ez",
        "colab_type": "code",
        "colab": {}
      },
      "source": [
        ""
      ],
      "execution_count": 0,
      "outputs": []
    },
    {
      "cell_type": "code",
      "metadata": {
        "id": "AjGpZVIZcJlp",
        "colab_type": "code",
        "colab": {
          "base_uri": "https://localhost:8080/",
          "height": 1000
        },
        "outputId": "03a5057b-57c4-49ee-c635-5391389a44d8"
      },
      "source": [
        "!saved_model_cli show --dir {export_path} --all"
      ],
      "execution_count": 66,
      "outputs": [
        {
          "output_type": "stream",
          "text": [
            "\n",
            "MetaGraphDef with tag-set: 'serve' contains the following SignatureDefs:\n",
            "\n",
            "signature_def['__saved_model_init_op']:\n",
            "  The given SavedModel SignatureDef contains the following input(s):\n",
            "  The given SavedModel SignatureDef contains the following output(s):\n",
            "    outputs['__saved_model_init_op'] tensor_info:\n",
            "        dtype: DT_INVALID\n",
            "        shape: unknown_rank\n",
            "        name: NoOp\n",
            "  Method name is: \n",
            "\n",
            "signature_def['serving_default']:\n",
            "  The given SavedModel SignatureDef contains the following input(s):\n",
            "    inputs['keras_layer_input'] tensor_info:\n",
            "        dtype: DT_STRING\n",
            "        shape: (-1)\n",
            "        name: serving_default_keras_layer_input:0\n",
            "  The given SavedModel SignatureDef contains the following output(s):\n",
            "    outputs['dense_3'] tensor_info:\n",
            "        dtype: DT_FLOAT\n",
            "        shape: (-1, 1)\n",
            "        name: StatefulPartitionedCall_2:0\n",
            "  Method name is: tensorflow/serving/predict\n",
            "WARNING: Logging before flag parsing goes to stderr.\n",
            "W0507 06:41:03.897927 140007835498368 deprecation.py:506] From /usr/local/lib/python2.7/dist-packages/tensorflow_core/python/ops/resource_variable_ops.py:1786: calling __init__ (from tensorflow.python.ops.resource_variable_ops) with constraint is deprecated and will be removed in a future version.\n",
            "Instructions for updating:\n",
            "If using Keras pass *_constraint arguments to layers.\n",
            "2020-05-07 06:41:04.023904: I tensorflow/stream_executor/platform/default/dso_loader.cc:44] Successfully opened dynamic library libcuda.so.1\n",
            "2020-05-07 06:41:04.028730: I tensorflow/stream_executor/cuda/cuda_gpu_executor.cc:981] successful NUMA node read from SysFS had negative value (-1), but there must be at least one NUMA node, so returning NUMA node zero\n",
            "2020-05-07 06:41:04.029281: I tensorflow/core/common_runtime/gpu/gpu_device.cc:1555] Found device 0 with properties: \n",
            "pciBusID: 0000:00:04.0 name: Tesla T4 computeCapability: 7.5\n",
            "coreClock: 1.59GHz coreCount: 40 deviceMemorySize: 14.73GiB deviceMemoryBandwidth: 298.08GiB/s\n",
            "2020-05-07 06:41:04.029561: I tensorflow/stream_executor/platform/default/dso_loader.cc:44] Successfully opened dynamic library libcudart.so.10.1\n",
            "2020-05-07 06:41:04.031721: I tensorflow/stream_executor/platform/default/dso_loader.cc:44] Successfully opened dynamic library libcublas.so.10\n",
            "2020-05-07 06:41:04.033557: I tensorflow/stream_executor/platform/default/dso_loader.cc:44] Successfully opened dynamic library libcufft.so.10\n",
            "2020-05-07 06:41:04.033915: I tensorflow/stream_executor/platform/default/dso_loader.cc:44] Successfully opened dynamic library libcurand.so.10\n",
            "2020-05-07 06:41:04.035932: I tensorflow/stream_executor/platform/default/dso_loader.cc:44] Successfully opened dynamic library libcusolver.so.10\n",
            "2020-05-07 06:41:04.036890: I tensorflow/stream_executor/platform/default/dso_loader.cc:44] Successfully opened dynamic library libcusparse.so.10\n",
            "2020-05-07 06:41:04.046553: I tensorflow/stream_executor/platform/default/dso_loader.cc:44] Successfully opened dynamic library libcudnn.so.7\n",
            "2020-05-07 06:41:04.046678: I tensorflow/stream_executor/cuda/cuda_gpu_executor.cc:981] successful NUMA node read from SysFS had negative value (-1), but there must be at least one NUMA node, so returning NUMA node zero\n",
            "2020-05-07 06:41:04.047487: I tensorflow/stream_executor/cuda/cuda_gpu_executor.cc:981] successful NUMA node read from SysFS had negative value (-1), but there must be at least one NUMA node, so returning NUMA node zero\n",
            "2020-05-07 06:41:04.048215: I tensorflow/core/common_runtime/gpu/gpu_device.cc:1697] Adding visible gpu devices: 0\n",
            "2020-05-07 06:41:04.048508: I tensorflow/core/platform/cpu_feature_guard.cc:142] Your CPU supports instructions that this TensorFlow binary was not compiled to use: AVX512F\n",
            "2020-05-07 06:41:04.055161: I tensorflow/core/platform/profile_utils/cpu_utils.cc:94] CPU Frequency: 2000129999 Hz\n",
            "2020-05-07 06:41:04.055401: I tensorflow/compiler/xla/service/service.cc:168] XLA service 0x55fd10aa1640 initialized for platform Host (this does not guarantee that XLA will be used). Devices:\n",
            "2020-05-07 06:41:04.055433: I tensorflow/compiler/xla/service/service.cc:176]   StreamExecutor device (0): Host, Default Version\n",
            "2020-05-07 06:41:04.145384: I tensorflow/stream_executor/cuda/cuda_gpu_executor.cc:981] successful NUMA node read from SysFS had negative value (-1), but there must be at least one NUMA node, so returning NUMA node zero\n",
            "2020-05-07 06:41:04.146076: I tensorflow/compiler/xla/service/service.cc:168] XLA service 0x55fd10aa0a00 initialized for platform CUDA (this does not guarantee that XLA will be used). Devices:\n",
            "2020-05-07 06:41:04.146114: I tensorflow/compiler/xla/service/service.cc:176]   StreamExecutor device (0): Tesla T4, Compute Capability 7.5\n",
            "2020-05-07 06:41:04.146334: I tensorflow/stream_executor/cuda/cuda_gpu_executor.cc:981] successful NUMA node read from SysFS had negative value (-1), but there must be at least one NUMA node, so returning NUMA node zero\n",
            "2020-05-07 06:41:04.146903: I tensorflow/core/common_runtime/gpu/gpu_device.cc:1555] Found device 0 with properties: \n",
            "pciBusID: 0000:00:04.0 name: Tesla T4 computeCapability: 7.5\n",
            "coreClock: 1.59GHz coreCount: 40 deviceMemorySize: 14.73GiB deviceMemoryBandwidth: 298.08GiB/s\n",
            "2020-05-07 06:41:04.146964: I tensorflow/stream_executor/platform/default/dso_loader.cc:44] Successfully opened dynamic library libcudart.so.10.1\n",
            "2020-05-07 06:41:04.146989: I tensorflow/stream_executor/platform/default/dso_loader.cc:44] Successfully opened dynamic library libcublas.so.10\n",
            "2020-05-07 06:41:04.147016: I tensorflow/stream_executor/platform/default/dso_loader.cc:44] Successfully opened dynamic library libcufft.so.10\n",
            "2020-05-07 06:41:04.147049: I tensorflow/stream_executor/platform/default/dso_loader.cc:44] Successfully opened dynamic library libcurand.so.10\n",
            "2020-05-07 06:41:04.147073: I tensorflow/stream_executor/platform/default/dso_loader.cc:44] Successfully opened dynamic library libcusolver.so.10\n",
            "2020-05-07 06:41:04.147094: I tensorflow/stream_executor/platform/default/dso_loader.cc:44] Successfully opened dynamic library libcusparse.so.10\n",
            "2020-05-07 06:41:04.147115: I tensorflow/stream_executor/platform/default/dso_loader.cc:44] Successfully opened dynamic library libcudnn.so.7\n",
            "2020-05-07 06:41:04.147190: I tensorflow/stream_executor/cuda/cuda_gpu_executor.cc:981] successful NUMA node read from SysFS had negative value (-1), but there must be at least one NUMA node, so returning NUMA node zero\n",
            "2020-05-07 06:41:04.147753: I tensorflow/stream_executor/cuda/cuda_gpu_executor.cc:981] successful NUMA node read from SysFS had negative value (-1), but there must be at least one NUMA node, so returning NUMA node zero\n",
            "2020-05-07 06:41:04.148228: I tensorflow/core/common_runtime/gpu/gpu_device.cc:1697] Adding visible gpu devices: 0\n",
            "2020-05-07 06:41:04.148323: I tensorflow/stream_executor/platform/default/dso_loader.cc:44] Successfully opened dynamic library libcudart.so.10.1\n",
            "2020-05-07 06:41:04.149343: I tensorflow/core/common_runtime/gpu/gpu_device.cc:1096] Device interconnect StreamExecutor with strength 1 edge matrix:\n",
            "2020-05-07 06:41:04.149375: I tensorflow/core/common_runtime/gpu/gpu_device.cc:1102]      0 \n",
            "2020-05-07 06:41:04.149391: I tensorflow/core/common_runtime/gpu/gpu_device.cc:1115] 0:   N \n",
            "2020-05-07 06:41:04.149555: I tensorflow/stream_executor/cuda/cuda_gpu_executor.cc:981] successful NUMA node read from SysFS had negative value (-1), but there must be at least one NUMA node, so returning NUMA node zero\n",
            "2020-05-07 06:41:04.150106: I tensorflow/stream_executor/cuda/cuda_gpu_executor.cc:981] successful NUMA node read from SysFS had negative value (-1), but there must be at least one NUMA node, so returning NUMA node zero\n",
            "2020-05-07 06:41:04.150624: W tensorflow/core/common_runtime/gpu/gpu_bfc_allocator.cc:39] Overriding allow_growth setting because the TF_FORCE_GPU_ALLOW_GROWTH environment variable is set. Original config value was 0.\n",
            "2020-05-07 06:41:04.150683: I tensorflow/core/common_runtime/gpu/gpu_device.cc:1241] Created TensorFlow device (/job:localhost/replica:0/task:0/device:GPU:0 with 13933 MB memory) -> physical GPU (device: 0, name: Tesla T4, pci bus id: 0000:00:04.0, compute capability: 7.5)\n",
            "\n",
            "Defined Functions:\n",
            "  Function Name: '__call__'\n",
            "    Option #1\n",
            "      Callable with:\n",
            "        Argument #1\n",
            "          inputs: TensorSpec(shape=(None,), dtype=tf.string, name=u'inputs')\n",
            "        Argument #2\n",
            "          DType: bool\n",
            "          Value: False\n",
            "        Argument #3\n",
            "          DType: NoneType\n",
            "          Value: None\n",
            "    Option #2\n",
            "      Callable with:\n",
            "        Argument #1\n",
            "          keras_layer_input: TensorSpec(shape=(None,), dtype=tf.string, name=u'keras_layer_input')\n",
            "        Argument #2\n",
            "          DType: bool\n",
            "          Value: False\n",
            "        Argument #3\n",
            "          DType: NoneType\n",
            "          Value: None\n",
            "    Option #3\n",
            "      Callable with:\n",
            "        Argument #1\n",
            "          keras_layer_input: TensorSpec(shape=(None,), dtype=tf.string, name=u'keras_layer_input')\n",
            "        Argument #2\n",
            "          DType: bool\n",
            "          Value: True\n",
            "        Argument #3\n",
            "          DType: NoneType\n",
            "          Value: None\n",
            "    Option #4\n",
            "      Callable with:\n",
            "        Argument #1\n",
            "          inputs: TensorSpec(shape=(None,), dtype=tf.string, name=u'inputs')\n",
            "        Argument #2\n",
            "          DType: bool\n",
            "          Value: True\n",
            "        Argument #3\n",
            "          DType: NoneType\n",
            "          Value: None\n",
            "\n",
            "  Function Name: '_default_save_signature'\n",
            "    Option #1\n",
            "      Callable with:\n",
            "        Argument #1\n",
            "          keras_layer_input: TensorSpec(shape=(None,), dtype=tf.string, name=u'keras_layer_input')\n",
            "\n",
            "  Function Name: 'call_and_return_all_conditional_losses'\n",
            "    Option #1\n",
            "      Callable with:\n",
            "        Argument #1\n",
            "          inputs: TensorSpec(shape=(None,), dtype=tf.string, name=u'inputs')\n",
            "        Argument #2\n",
            "          DType: bool\n",
            "          Value: True\n",
            "        Argument #3\n",
            "          DType: NoneType\n",
            "          Value: None\n",
            "    Option #2\n",
            "      Callable with:\n",
            "        Argument #1\n",
            "          inputs: TensorSpec(shape=(None,), dtype=tf.string, name=u'inputs')\n",
            "        Argument #2\n",
            "          DType: bool\n",
            "          Value: False\n",
            "        Argument #3\n",
            "          DType: NoneType\n",
            "          Value: None\n",
            "    Option #3\n",
            "      Callable with:\n",
            "        Argument #1\n",
            "          keras_layer_input: TensorSpec(shape=(None,), dtype=tf.string, name=u'keras_layer_input')\n",
            "        Argument #2\n",
            "          DType: bool\n",
            "          Value: True\n",
            "        Argument #3\n",
            "          DType: NoneType\n",
            "          Value: None\n",
            "    Option #4\n",
            "      Callable with:\n",
            "        Argument #1\n",
            "          keras_layer_input: TensorSpec(shape=(None,), dtype=tf.string, name=u'keras_layer_input')\n",
            "        Argument #2\n",
            "          DType: bool\n",
            "          Value: False\n",
            "        Argument #3\n",
            "          DType: NoneType\n",
            "          Value: None\n"
          ],
          "name": "stdout"
        }
      ]
    },
    {
      "cell_type": "code",
      "metadata": {
        "id": "PmcOU4QwcJyU",
        "colab_type": "code",
        "colab": {
          "base_uri": "https://localhost:8080/",
          "height": 399
        },
        "outputId": "5d08f11d-ff5c-4dcf-8439-4cadf20f512d"
      },
      "source": [
        "!echo \"deb http://storage.googleapis.com/tensorflow-serving-apt stable tensorflow-model-server tensorflow-model-server-universal\" | tee /etc/apt/sources.list.d/tensorflow-serving.list && \\\n",
        "curl https://storage.googleapis.com/tensorflow-serving-apt/tensorflow-serving.release.pub.gpg | apt-key add -\n",
        "!apt update"
      ],
      "execution_count": 67,
      "outputs": [
        {
          "output_type": "stream",
          "text": [
            "deb http://storage.googleapis.com/tensorflow-serving-apt stable tensorflow-model-server tensorflow-model-server-universal\n",
            "  % Total    % Received % Xferd  Average Speed   Time    Time     Time  Current\n",
            "                                 Dload  Upload   Total   Spent    Left  Speed\n",
            "\r  0     0    0     0    0     0      0      0 --:--:-- --:--:-- --:--:--     0\r100  2943  100  2943    0     0   169k      0 --:--:-- --:--:-- --:--:--  169k\n",
            "OK\n",
            "Hit:1 http://storage.googleapis.com/tensorflow-serving-apt stable InRelease\n",
            "Hit:2 http://archive.ubuntu.com/ubuntu bionic InRelease\n",
            "Hit:3 http://ppa.launchpad.net/graphics-drivers/ppa/ubuntu bionic InRelease\n",
            "Get:4 http://archive.ubuntu.com/ubuntu bionic-updates InRelease [88.7 kB]\n",
            "Hit:5 http://ppa.launchpad.net/marutter/c2d4u3.5/ubuntu bionic InRelease\n",
            "Hit:6 https://cloud.r-project.org/bin/linux/ubuntu bionic-cran35/ InRelease\n",
            "Get:7 http://archive.ubuntu.com/ubuntu bionic-backports InRelease [74.6 kB]\n",
            "Get:8 http://security.ubuntu.com/ubuntu bionic-security InRelease [88.7 kB]\n",
            "Ign:9 https://developer.download.nvidia.com/compute/cuda/repos/ubuntu1804/x86_64  InRelease\n",
            "Ign:10 https://developer.download.nvidia.com/compute/machine-learning/repos/ubuntu1804/x86_64  InRelease\n",
            "Hit:11 https://developer.download.nvidia.com/compute/cuda/repos/ubuntu1804/x86_64  Release\n",
            "Hit:12 https://developer.download.nvidia.com/compute/machine-learning/repos/ubuntu1804/x86_64  Release\n",
            "Fetched 252 kB in 1s (170 kB/s)\n",
            "Reading package lists... Done\n",
            "Building dependency tree       \n",
            "Reading state information... Done\n",
            "32 packages can be upgraded. Run 'apt list --upgradable' to see them.\n"
          ],
          "name": "stdout"
        }
      ]
    },
    {
      "cell_type": "code",
      "metadata": {
        "id": "UGHET6vkcJ1h",
        "colab_type": "code",
        "colab": {
          "base_uri": "https://localhost:8080/",
          "height": 104
        },
        "outputId": "4ae7b5ec-4978-4baf-a754-fa559ec1be24"
      },
      "source": [
        "!apt-get install tensorflow-model-server"
      ],
      "execution_count": 68,
      "outputs": [
        {
          "output_type": "stream",
          "text": [
            "Reading package lists... Done\n",
            "Building dependency tree       \n",
            "Reading state information... Done\n",
            "tensorflow-model-server is already the newest version (2.1.0).\n",
            "0 upgraded, 0 newly installed, 0 to remove and 32 not upgraded.\n"
          ],
          "name": "stdout"
        }
      ]
    },
    {
      "cell_type": "code",
      "metadata": {
        "id": "bgaNWF5-cJ5M",
        "colab_type": "code",
        "colab": {}
      },
      "source": [
        "os.environ[\"MODEL_DIR\"] = MODEL_DIR"
      ],
      "execution_count": 0,
      "outputs": []
    },
    {
      "cell_type": "code",
      "metadata": {
        "id": "v7o7puOglbAK",
        "colab_type": "code",
        "colab": {
          "base_uri": "https://localhost:8080/",
          "height": 35
        },
        "outputId": "a49455cc-8809-4594-a223-5a4961a96ca1"
      },
      "source": [
        "%%bash --bg \n",
        "nohup tensorflow_model_server \\\n",
        "  --rest_api_port=8501 \\\n",
        "  --model_name=fashion_model \\\n",
        "  --model_base_path=\"${MODEL_DIR}\" >server.log 2>&1"
      ],
      "execution_count": 70,
      "outputs": [
        {
          "output_type": "stream",
          "text": [
            "Starting job # 2 in a separate thread.\n"
          ],
          "name": "stdout"
        }
      ]
    },
    {
      "cell_type": "code",
      "metadata": {
        "id": "AmOhmyu2lbFb",
        "colab_type": "code",
        "colab": {
          "base_uri": "https://localhost:8080/",
          "height": 211
        },
        "outputId": "ce1bbed8-621f-44e9-d9f2-c9a5261f2955"
      },
      "source": [
        "!tail server.log"
      ],
      "execution_count": 71,
      "outputs": [
        {
          "output_type": "stream",
          "text": [
            "2020-05-07 06:41:39.872198: I external/org_tensorflow/tensorflow/cc/saved_model/loader.cc:152] Running initialization op on SavedModel bundle at path: /tmp/1\n",
            "2020-05-07 06:41:39.887190: I external/org_tensorflow/tensorflow/cc/saved_model/loader.cc:333] SavedModel load for tags { serve }; Status: success: OK. Took 57518 microseconds.\n",
            "2020-05-07 06:41:39.887838: I tensorflow_serving/servables/tensorflow/saved_model_warmup.cc:105] No warmup data file found at /tmp/1/assets.extra/tf_serving_warmup_requests\n",
            "2020-05-07 06:41:39.887964: I tensorflow_serving/core/loader_harness.cc:87] Successfully loaded servable version {name: fashion_model version: 1}\n",
            "2020-05-07 06:41:39.889009: I tensorflow_serving/model_servers/server.cc:358] Running gRPC ModelServer at 0.0.0.0:8500 ...\n",
            "[warn] getaddrinfo: address family for nodename not supported\n",
            "[evhttp_server.cc : 223] NET_LOG: Couldn't bind to port 8501\n",
            "[evhttp_server.cc : 63] NET_LOG: Server has not been terminated. Force termination now.\n",
            "[evhttp_server.cc : 258] NET_LOG: Server is not running ...\n",
            "2020-05-07 06:41:39.890169: E tensorflow_serving/model_servers/server.cc:380] Failed to start HTTP Server at localhost:8501\n"
          ],
          "name": "stdout"
        }
      ]
    },
    {
      "cell_type": "code",
      "metadata": {
        "id": "ugJXYG1Cndq9",
        "colab_type": "code",
        "colab": {}
      },
      "source": [
        "# test_data\n",
        "# tf.convert_to_tensor\n",
        "test_data_examples_batch, test_data_labels_batch = next(iter(test_data.batch(1)))\n",
        "test_data_examples_batch\n"
      ],
      "execution_count": 0,
      "outputs": []
    },
    {
      "cell_type": "code",
      "metadata": {
        "id": "K6seqny7qHeS",
        "colab_type": "code",
        "colab": {}
      },
      "source": [
        "text = [\"There are films that make careers. For George Romero, it was NIGHT OF THE LIVING DEAD; for Kevin Smith, CLERKS; for Robert Rodriguez, EL MARIACHI. Add to that list Onur Tukel's absolutely amazing DING-A-LING-LESS. Flawless film-making, and as assured and as professional as any of the aforementioned movies. I haven't laughed this hard since I saw THE FULL MONTY. And, even then, I don't think I laughed quite this hard... So to speak. Tukel's talent is considerable: DING-A-LING-LESS is so chock full of double entendres that one would have to sit down with a copy of this script and do a line-by-line examination of it to fully appreciate the, uh, breadth and width of it. Every shot is beautifully composed (a clear sign of a sure-handed director), and the performances all around are solid there's none of the over-the-top scenery chewing one might've expected from a film like this. DING-A-LING-LESS is a film whose time has come.\"]"
      ],
      "execution_count": 0,
      "outputs": []
    },
    {
      "cell_type": "code",
      "metadata": {
        "id": "hway8XdwqHia",
        "colab_type": "code",
        "colab": {
          "base_uri": "https://localhost:8080/",
          "height": 55
        },
        "outputId": "53df5999-da4d-4e9a-8462-ca1d94240bbf"
      },
      "source": [
        "text"
      ],
      "execution_count": 26,
      "outputs": [
        {
          "output_type": "execute_result",
          "data": {
            "text/plain": [
              "[\"There are films that make careers. For George Romero, it was NIGHT OF THE LIVING DEAD; for Kevin Smith, CLERKS; for Robert Rodriguez, EL MARIACHI. Add to that list Onur Tukel's absolutely amazing DING-A-LING-LESS. Flawless film-making, and as assured and as professional as any of the aforementioned movies. I haven't laughed this hard since I saw THE FULL MONTY. And, even then, I don't think I laughed quite this hard... So to speak. Tukel's talent is considerable: DING-A-LING-LESS is so chock full of double entendres that one would have to sit down with a copy of this script and do a line-by-line examination of it to fully appreciate the, uh, breadth and width of it. Every shot is beautifully composed (a clear sign of a sure-handed director), and the performances all around are solid there's none of the over-the-top scenery chewing one might've expected from a film like this. DING-A-LING-LESS is a film whose time has come.\"]"
            ]
          },
          "metadata": {
            "tags": []
          },
          "execution_count": 26
        }
      ]
    },
    {
      "cell_type": "code",
      "metadata": {
        "id": "2XoxRZ8IqHnU",
        "colab_type": "code",
        "colab": {}
      },
      "source": [
        "text_tensor = tf.convert_to_tensor(value=text)"
      ],
      "execution_count": 0,
      "outputs": []
    },
    {
      "cell_type": "code",
      "metadata": {
        "id": "d29K1LuZqHw9",
        "colab_type": "code",
        "colab": {
          "base_uri": "https://localhost:8080/",
          "height": 89
        },
        "outputId": "5985a574-2fb7-4959-a1ee-f012c26962dd"
      },
      "source": [
        "text_tensor"
      ],
      "execution_count": 33,
      "outputs": [
        {
          "output_type": "execute_result",
          "data": {
            "text/plain": [
              "<tf.Tensor: shape=(1,), dtype=string, numpy=\n",
              "array([b\"There are films that make careers. For George Romero, it was NIGHT OF THE LIVING DEAD; for Kevin Smith, CLERKS; for Robert Rodriguez, EL MARIACHI. Add to that list Onur Tukel's absolutely amazing DING-A-LING-LESS. Flawless film-making, and as assured and as professional as any of the aforementioned movies. I haven't laughed this hard since I saw THE FULL MONTY. And, even then, I don't think I laughed quite this hard... So to speak. Tukel's talent is considerable: DING-A-LING-LESS is so chock full of double entendres that one would have to sit down with a copy of this script and do a line-by-line examination of it to fully appreciate the, uh, breadth and width of it. Every shot is beautifully composed (a clear sign of a sure-handed director), and the performances all around are solid there's none of the over-the-top scenery chewing one might've expected from a film like this. DING-A-LING-LESS is a film whose time has come.\"],\n",
              "      dtype=object)>"
            ]
          },
          "metadata": {
            "tags": []
          },
          "execution_count": 33
        }
      ]
    },
    {
      "cell_type": "code",
      "metadata": {
        "id": "6V58dgMbq2r1",
        "colab_type": "code",
        "colab": {
          "base_uri": "https://localhost:8080/",
          "height": 55
        },
        "outputId": "be355d11-2cb8-45d9-85dc-8846da9ef79b"
      },
      "source": [
        "text_tensor[0]"
      ],
      "execution_count": 47,
      "outputs": [
        {
          "output_type": "execute_result",
          "data": {
            "text/plain": [
              "<tf.Tensor: shape=(), dtype=string, numpy=b\"There are films that make careers. For George Romero, it was NIGHT OF THE LIVING DEAD; for Kevin Smith, CLERKS; for Robert Rodriguez, EL MARIACHI. Add to that list Onur Tukel's absolutely amazing DING-A-LING-LESS. Flawless film-making, and as assured and as professional as any of the aforementioned movies. I haven't laughed this hard since I saw THE FULL MONTY. And, even then, I don't think I laughed quite this hard... So to speak. Tukel's talent is considerable: DING-A-LING-LESS is so chock full of double entendres that one would have to sit down with a copy of this script and do a line-by-line examination of it to fully appreciate the, uh, breadth and width of it. Every shot is beautifully composed (a clear sign of a sure-handed director), and the performances all around are solid there's none of the over-the-top scenery chewing one might've expected from a film like this. DING-A-LING-LESS is a film whose time has come.\">"
            ]
          },
          "metadata": {
            "tags": []
          },
          "execution_count": 47
        }
      ]
    },
    {
      "cell_type": "code",
      "metadata": {
        "id": "noK6tv_vq2vr",
        "colab_type": "code",
        "colab": {}
      },
      "source": [
        ""
      ],
      "execution_count": 0,
      "outputs": []
    },
    {
      "cell_type": "code",
      "metadata": {
        "id": "MobDSIp1lbJf",
        "colab_type": "code",
        "colab": {
          "base_uri": "https://localhost:8080/",
          "height": 35
        },
        "outputId": "7c56716e-b260-4614-d1e4-0a86623855cd"
      },
      "source": [
        "import json\n",
        "data = json.dumps({\"signature_name\": \"serving_default\", \"instances\": [\"There films is very good, I like it\"]})\n",
        "print(data)\n",
        "# print(np.array(text[0]).shape)"
      ],
      "execution_count": 72,
      "outputs": [
        {
          "output_type": "stream",
          "text": [
            "{\"signature_name\": \"serving_default\", \"instances\": [\"There films is very good, I like it\"]}\n"
          ],
          "name": "stdout"
        }
      ]
    },
    {
      "cell_type": "code",
      "metadata": {
        "id": "YQ2rXUyQlbUN",
        "colab_type": "code",
        "colab": {
          "base_uri": "https://localhost:8080/",
          "height": 35
        },
        "outputId": "7566078e-5b99-41a0-d817-6c007fe97918"
      },
      "source": [
        "!pip install -q requests\n",
        "\n",
        "import requests\n",
        "\n",
        "@timeit\n",
        "def run():\n",
        "    headers = {\"content-type\": \"application/json\"}\n",
        "    json_response = requests.post('http://localhost:8501/v1/models/fashion_model:predict', data=data, headers=headers)\n",
        "    json.loads(json_response.text)\n",
        "run()\n",
        "\n",
        "# predictions = json.loads(json_response.text)['predictions']"
      ],
      "execution_count": 84,
      "outputs": [
        {
          "output_type": "stream",
          "text": [
            "run函数运行时间为：0.00434566\n"
          ],
          "name": "stdout"
        }
      ]
    },
    {
      "cell_type": "code",
      "metadata": {
        "id": "skFhFZWVcJ_G",
        "colab_type": "code",
        "colab": {}
      },
      "source": [
        ""
      ],
      "execution_count": 0,
      "outputs": []
    }
  ]
}